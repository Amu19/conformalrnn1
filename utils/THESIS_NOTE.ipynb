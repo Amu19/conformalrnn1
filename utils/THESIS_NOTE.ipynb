{
 "cells": [
  {
   "cell_type": "code",
   "execution_count": 18,
   "id": "14351d1c",
   "metadata": {
    "scrolled": true
   },
   "outputs": [],
   "source": [
    "import pandas as pd\n",
    "import numpy as np\n",
    "\n",
    "import pyspark.sql.functions as F\n",
    "#from pyspark.sql.functions import*\n",
    "from pyspark.sql.window import Window\n",
    "\n",
    "from pyspark.sql import SparkSession\n",
    "spark = SparkSession.builder.getOrCreate()\n",
    "\n",
    "import torch\n",
    "from sklearn.preprocessing import StandardScaler"
   ]
  },
  {
   "cell_type": "code",
   "execution_count": null,
   "id": "36fcea3f-5067-475b-837a-3eb153d79edc",
   "metadata": {},
   "outputs": [],
   "source": [
    "#df_admissions1 = pd.read_csv('C:/Users/Chicki/Desktop/Data/admissions_new1.csv')\n",
    "#df_admissions.count()\n",
    "#df_admissions1[df_admissions1['HADM_ID'] == 143363]"
   ]
  },
  {
   "cell_type": "code",
   "execution_count": null,
   "id": "7524e370",
   "metadata": {
    "scrolled": true,
    "tags": []
   },
   "outputs": [],
   "source": [
    "df_admissions = spark.read.csv('C:/Users/Chicki/Desktop/Data/admissions_new1.csv')\n",
    "#df_admissions.show()\n",
    "#df_admissions = pd.read_csv('C:/Users/Chicki/Desktop/Data/admissions_new1.csv')\n",
    "#print (df_admissions.head(5))\n",
    "#query_admissions = df_admissions.query('HADM_ID == 1657660')\n",
    "#print(query_admissions)\n",
    "#df_admissions.sort_values(by=['SUBJECT_ID']).head(20)\n"
   ]
  },
  {
   "cell_type": "code",
   "execution_count": null,
   "id": "a3505441-ca3e-4753-9699-e289e1daa1fa",
   "metadata": {},
   "outputs": [],
   "source": [
    "w = Window.partitionBy('SUBJECT_ID').orderBy('HADM_ID')\n",
    "#df_admissions_reduced = df_admissions.withColumn('Rank', dense_rank().over(w))\n",
    "#df_admissions_reduced.filter(df.Rank == 1).head()\n",
    "#df_admissions_reduced = df_admissions.withColumn(\"row_number\",F.row_number().over(Window.partitionBy(df_admissions._c1).orderBy(df_admissions._c2.desc()))).filter(F.col(\"row_number\")==1).drop(\"row_number\")\n",
    "df_admissions_reduced1 = df_admissions.withColumn(\"row_number\",F.row_number().over(Window.partitionBy(df_admissions._c1).orderBy(df_admissions._c2.desc()))).filter(F.col(\"row_number\")==1).drop(\"row_number\")"
   ]
  },
  {
   "cell_type": "code",
   "execution_count": null,
   "id": "6d9ed08d-4a2f-4761-bc74-726793ad5cc5",
   "metadata": {},
   "outputs": [],
   "source": [
    "df_admissions_reduced1.count()"
   ]
  },
  {
   "cell_type": "code",
   "execution_count": null,
   "id": "28827feb-bb8b-4fe7-acfd-1d69dcace5da",
   "metadata": {},
   "outputs": [],
   "source": [
    "#df_admissions_reduced1.withColumnRenamed(\"_c1\",\"SUBJECT_ID\").show()\n",
    "df_admissions_reduced1.withColumnRenamed(\"_c2\",\"HADM_ID\").show()\n"
   ]
  },
  {
   "cell_type": "code",
   "execution_count": null,
   "id": "95d68a09-6088-487d-bf1d-8384a6b63988",
   "metadata": {},
   "outputs": [],
   "source": [
    "## IF using the FULL admissions file, use this one...\n",
    "df_admissions3 = df_admissions_reduced1.toPandas()\n",
    "df_admissions3.count()"
   ]
  },
  {
   "cell_type": "code",
   "execution_count": null,
   "id": "f1e5c091-aa46-4665-89ce-6f0a7df1e8f2",
   "metadata": {},
   "outputs": [],
   "source": [
    "#df_admissions2 = df_admissions_reduced1.limit(30000).toPandas()\n",
    "#df_admissions2.head(10)\n",
    "#df_admissions2.count()\n",
    "df_admissions2.dtypes"
   ]
  },
  {
   "cell_type": "code",
   "execution_count": 15,
   "id": "4ccf3a1f",
   "metadata": {
    "scrolled": true
   },
   "outputs": [
    {
     "name": "stdout",
     "output_type": "stream",
     "text": [
      "['2075-03-13 00:00:00' '2164-12-27 00:00:00' '2090-03-15 00:00:00' ...\n",
      " '2086-03-29 00:00:00' '2026-05-25 00:00:00' '2076-07-25 00:00:00']\n"
     ]
    }
   ],
   "source": [
    "df_patients = pd.read_csv('C:/Users/Chicki/Desktop/Data/patients.csv')\n",
    "#print(df_patients.query('SUBJECT_ID == 36'))\n",
    "print(df_patients['DOB'].unique())"
   ]
  },
  {
   "cell_type": "code",
   "execution_count": 16,
   "id": "64c5fded-14f0-4fe7-9c90-eb01fab54c0d",
   "metadata": {},
   "outputs": [
    {
     "data": {
      "text/html": [
       "<div>\n",
       "<style scoped>\n",
       "    .dataframe tbody tr th:only-of-type {\n",
       "        vertical-align: middle;\n",
       "    }\n",
       "\n",
       "    .dataframe tbody tr th {\n",
       "        vertical-align: top;\n",
       "    }\n",
       "\n",
       "    .dataframe thead th {\n",
       "        text-align: right;\n",
       "    }\n",
       "</style>\n",
       "<table border=\"1\" class=\"dataframe\">\n",
       "  <thead>\n",
       "    <tr style=\"text-align: right;\">\n",
       "      <th></th>\n",
       "      <th>ROW_ID</th>\n",
       "      <th>SUBJECT_ID</th>\n",
       "      <th>GENDER</th>\n",
       "      <th>DOB</th>\n",
       "      <th>DOD</th>\n",
       "      <th>DOD_HOSP</th>\n",
       "      <th>DOD_SSN</th>\n",
       "      <th>EXPIRE_FLAG</th>\n",
       "    </tr>\n",
       "  </thead>\n",
       "  <tbody>\n",
       "    <tr>\n",
       "      <th>0</th>\n",
       "      <td>234</td>\n",
       "      <td>249</td>\n",
       "      <td>F</td>\n",
       "      <td>2075-03-13 00:00:00</td>\n",
       "      <td>NaN</td>\n",
       "      <td>NaN</td>\n",
       "      <td>NaN</td>\n",
       "      <td>0</td>\n",
       "    </tr>\n",
       "    <tr>\n",
       "      <th>1</th>\n",
       "      <td>235</td>\n",
       "      <td>250</td>\n",
       "      <td>F</td>\n",
       "      <td>2164-12-27 00:00:00</td>\n",
       "      <td>2188-11-22 00:00:00</td>\n",
       "      <td>2188-11-22 00:00:00</td>\n",
       "      <td>NaN</td>\n",
       "      <td>1</td>\n",
       "    </tr>\n",
       "    <tr>\n",
       "      <th>2</th>\n",
       "      <td>236</td>\n",
       "      <td>251</td>\n",
       "      <td>M</td>\n",
       "      <td>2090-03-15 00:00:00</td>\n",
       "      <td>NaN</td>\n",
       "      <td>NaN</td>\n",
       "      <td>NaN</td>\n",
       "      <td>0</td>\n",
       "    </tr>\n",
       "    <tr>\n",
       "      <th>3</th>\n",
       "      <td>237</td>\n",
       "      <td>252</td>\n",
       "      <td>M</td>\n",
       "      <td>2078-03-06 00:00:00</td>\n",
       "      <td>NaN</td>\n",
       "      <td>NaN</td>\n",
       "      <td>NaN</td>\n",
       "      <td>0</td>\n",
       "    </tr>\n",
       "    <tr>\n",
       "      <th>4</th>\n",
       "      <td>238</td>\n",
       "      <td>253</td>\n",
       "      <td>F</td>\n",
       "      <td>2089-11-26 00:00:00</td>\n",
       "      <td>NaN</td>\n",
       "      <td>NaN</td>\n",
       "      <td>NaN</td>\n",
       "      <td>0</td>\n",
       "    </tr>\n",
       "  </tbody>\n",
       "</table>\n",
       "</div>"
      ],
      "text/plain": [
       "   ROW_ID  SUBJECT_ID GENDER                  DOB                  DOD  \\\n",
       "0     234         249      F  2075-03-13 00:00:00                  NaN   \n",
       "1     235         250      F  2164-12-27 00:00:00  2188-11-22 00:00:00   \n",
       "2     236         251      M  2090-03-15 00:00:00                  NaN   \n",
       "3     237         252      M  2078-03-06 00:00:00                  NaN   \n",
       "4     238         253      F  2089-11-26 00:00:00                  NaN   \n",
       "\n",
       "              DOD_HOSP DOD_SSN  EXPIRE_FLAG  \n",
       "0                  NaN     NaN            0  \n",
       "1  2188-11-22 00:00:00     NaN            1  \n",
       "2                  NaN     NaN            0  \n",
       "3                  NaN     NaN            0  \n",
       "4                  NaN     NaN            0  "
      ]
     },
     "execution_count": 16,
     "metadata": {},
     "output_type": "execute_result"
    }
   ],
   "source": [
    "df_patients.head()"
   ]
  },
  {
   "cell_type": "code",
   "execution_count": null,
   "id": "5a49b514",
   "metadata": {
    "scrolled": true
   },
   "outputs": [],
   "source": [
    "#df_icu_stays = pd.read_csv('C:/Users/Chicki/Desktop/Data/ICUSTAYS1.csv')\n",
    "#df_icu_stays.count()\n",
    "#print ((df_icu_stays.head(5)))\n",
    "#df_icu_stays.sort_values(by=['SUBJECT_ID']).head(20)\n"
   ]
  },
  {
   "cell_type": "code",
   "execution_count": null,
   "id": "6d9e57e0",
   "metadata": {},
   "outputs": [],
   "source": [
    "df_chart_events = pd.read_csv('C:/Users/Chicki/Desktop/Data/CHARTEVENTS.csv', nrows=50000000, low_memory = False)\n",
    "#df_chart_events.count()\n",
    "#df_chart_events1 = pd.read_csv('C:/Users/Chicki/Desktop/Data/CHARTEVENTS.csv', nrows=10000000)\n",
    "\n",
    "## REMOVE the ERROR records \n",
    "#df_chart_events1 = df_chart_events1[df_chart_events1[\"ERROR\"] == 0]\n",
    "#df_chart_events1.count()\n",
    "\n",
    "#df_chart_events = df_chart_events[df_chart_events[\"ERROR\"] == 0]\n",
    "#df_chart_events.count()\n",
    "\n",
    "\n",
    "#df_chart_events.cache()\n",
    "\n",
    "#df_chart_events1.count()\n",
    "#df_chart_events.count()\n",
    "#print((df_chart_events.query('WARNING == 1').head(5)))\n",
    "#print((df_chart_events.query('ITEMID < 10884').head(5)))\n"
   ]
  },
  {
   "cell_type": "code",
   "execution_count": null,
   "id": "e8bec5f2",
   "metadata": {},
   "outputs": [],
   "source": [
    "df_chart_events.count()"
   ]
  },
  {
   "cell_type": "code",
   "execution_count": null,
   "id": "642bb61e",
   "metadata": {
    "scrolled": true
   },
   "outputs": [],
   "source": [
    "#print((df_chart_events1.query('ERROR == 1').count()))\n",
    "#print((df_chart_events1.query('WARNING == 1').tail()))\n",
    "#df_chart_events.isna().sum()\n",
    "#print(df_chart_events1['WARNING'].unique())\n",
    "#print(df_chart_events1['RESULTSTATUS'].unique())"
   ]
  },
  {
   "cell_type": "markdown",
   "id": "60ddf27e",
   "metadata": {},
   "source": [
    "# Remove all unnecessary columns from Chart Events"
   ]
  },
  {
   "cell_type": "code",
   "execution_count": null,
   "id": "6b63025f",
   "metadata": {
    "scrolled": true
   },
   "outputs": [],
   "source": [
    "## REMOVE RECORDS with NA in admission id\n",
    "df_chart_events = df_chart_events.dropna(subset=['HADM_ID'])\n",
    "\n",
    "\n",
    "## REMOVE the unnecessary columns\n",
    "df_chart_events = df_chart_events.drop(['ROW_ID','CHARTTIME','STORETIME','CGID','STOPPED','ERROR', 'RESULTSTATUS', 'WARNING', 'ICUSTAY_ID'], axis=1)\n",
    "#df_chart_events.count()\n",
    "#print((df_chart_events1.head(5)))"
   ]
  },
  {
   "cell_type": "code",
   "execution_count": null,
   "id": "aecf82a6-2cfd-4f69-8217-4fb1a7cf30ea",
   "metadata": {},
   "outputs": [],
   "source": [
    "### HAVE ONLY THE REDUCED RECORDS FROM ADMISSIONS BEING USED HERE IN LAB EVENTS\n",
    "\n",
    "## Use this to have the limited list of admissions\n",
    "admissions_list = df_admissions2['_c2'].astype('int').tolist()\n",
    "\n",
    "\n",
    "## Use this for the full list of admissions and not the limited one\n",
    "#admissions_list = df_admissions3['_c2'].astype('str').astype('int').tolist()\n",
    "#admissions_list = df_admissions3['_c2'].tolist()\n",
    "#admissions_list = np.int_(df_admissions3['_c2']).tolist()\n",
    "print(admissions_list[0:10])\n",
    "\n",
    "df_chart_events = df_chart_events[df_chart_events.HADM_ID.isin(admissions_list)]\n",
    "df_chart_events.count()"
   ]
  },
  {
   "cell_type": "markdown",
   "id": "37ca00aa",
   "metadata": {},
   "source": [
    "# Remove all unnecessary data/columns from Lab Events"
   ]
  },
  {
   "cell_type": "code",
   "execution_count": null,
   "id": "dab4f5dd",
   "metadata": {
    "scrolled": true
   },
   "outputs": [],
   "source": [
    "df_lab_events = pd.read_csv('C:/Users/Chicki/Desktop/Data/LABEVENTS.csv')\n",
    "#df_lab_events = pd.read_csv('C:/Users/Chicki/Desktop/Data/LABEVENTS.csv', nrows=10000000)\n",
    "#print(df_lab_events.head(5))\n",
    "df_lab_events.count()\n",
    "## REMOVE the error records from the lab events\n",
    "#df_lab_events = df_lab_events.drop(['ROW_ID', 'CHARTTIME'], axis = 1)\n",
    "#df_lab_events.tail()\n",
    "#df_lab_events.isna().sum()"
   ]
  },
  {
   "cell_type": "code",
   "execution_count": null,
   "id": "4d361acc",
   "metadata": {
    "scrolled": true
   },
   "outputs": [],
   "source": [
    "print(df_lab_events.query('HADM_ID == 165660').head())"
   ]
  },
  {
   "cell_type": "code",
   "execution_count": null,
   "id": "e90a5436-57f8-4e54-97aa-ff16d8863c34",
   "metadata": {},
   "outputs": [],
   "source": [
    "### HAVE ONLY THE REDUCED RECORDS FROM ADMISSIONS BEING USED HERE IN LAB EVENTS for selection\n",
    "admissions_list = df_admissions2['_c2'].astype('int').tolist()\n",
    "#print(admissions_list)\n",
    "\n",
    "df_lab_events1 = df_lab_events[df_lab_events.HADM_ID.isin(admissions_list)]\n",
    "df_lab_events1.count()"
   ]
  },
  {
   "cell_type": "code",
   "execution_count": null,
   "id": "c9ae16a0",
   "metadata": {},
   "outputs": [],
   "source": [
    "## ONLY have the requisite ITEM details we are looking for in the LAB & Chart events\n",
    "items_list = [223761, 220045, 220046, 220047, 220179, 220180, 220181, 220052, 223835, 224161, 221906, 225411, 226260, 50821, 223835, 1884, 50931, 50882, 50912, 51221, 51222, 51265, 50971, 51006, 51301, 51009, 50865, 50929, 50997, 4478, 8125, 5982, 8157, 8204, 6287, 6720, 6807, 3112, 225411, 6185]\n",
    "print(items_list)\n"
   ]
  },
  {
   "cell_type": "code",
   "execution_count": null,
   "id": "7ccc7f08-d3e5-4450-b1de-b4771fff25b7",
   "metadata": {},
   "outputs": [],
   "source": [
    "#df_lab_events1 = df_lab_events1[df_lab_events1.ITEMID.isin(items_list)]\n",
    "df_chart_events = df_chart_events[df_chart_events.ITEMID.isin(items_list)]\n",
    "#df_lab_events1.count()"
   ]
  },
  {
   "cell_type": "code",
   "execution_count": null,
   "id": "bcbdf882-0078-48ed-970a-67cca76c3994",
   "metadata": {},
   "outputs": [],
   "source": [
    "df_chart_events.count()"
   ]
  },
  {
   "cell_type": "code",
   "execution_count": null,
   "id": "3f1e4429",
   "metadata": {
    "scrolled": true
   },
   "outputs": [],
   "source": [
    "#query_lab_events = df_lab_events.query('FLAG == \"abnormal\"')\n",
    "#query_lab_events = df_lab_events.query('LABEL.str.contains(\"bun\", na=False)', engine = 'python')\n",
    "#query_lab_events.tail(10)\n",
    "\n",
    "## REMOVE RECORDS with NA in admission id\n",
    "df_lab_events1 = df_lab_events1.dropna(subset=['HADM_ID', 'ITEMID', 'VALUE', 'SUBJECT_ID'])\n",
    "df_lab_events1.count()"
   ]
  },
  {
   "cell_type": "markdown",
   "id": "dbe5b398",
   "metadata": {},
   "source": [
    "# Create the new columns on Chart Events"
   ]
  },
  {
   "cell_type": "code",
   "execution_count": null,
   "id": "5e95324c",
   "metadata": {
    "scrolled": true,
    "tags": []
   },
   "outputs": [],
   "source": [
    "#df_chart_events1 = df_chart_events1.drop(['temphigh'], axis = 1)\n",
    "df_chart_events.count()"
   ]
  },
  {
   "cell_type": "code",
   "execution_count": null,
   "id": "f5fad1af",
   "metadata": {},
   "outputs": [],
   "source": [
    "## ASSIGN temphigh column based on values \n",
    "df_chart_events['temphigh'] = ((df_chart_events['ITEMID']== 223761) & (df_chart_events['VALUENUM'] > 99).astype('int'))"
   ]
  },
  {
   "cell_type": "code",
   "execution_count": null,
   "id": "13c3cb3d",
   "metadata": {},
   "outputs": [],
   "source": [
    "## ASSIGN heartratehigh column based on values\n",
    "df_chart_events['heartratehigh'] = (((df_chart_events['ITEMID'] == 220045) | (df_chart_events['ITEMID'] == 220046) | (df_chart_events['ITEMID'] == 220047)) & (df_chart_events['VALUENUM'] > 100))"
   ]
  },
  {
   "cell_type": "code",
   "execution_count": null,
   "id": "e284165d",
   "metadata": {},
   "outputs": [],
   "source": [
    "## ASSIGN sysbplow column based on values\n",
    "df_chart_events['sysbplow'] = ((df_chart_events['ITEMID'] == 220179) & (df_chart_events['VALUENUM'] < 90).astype('int'))"
   ]
  },
  {
   "cell_type": "code",
   "execution_count": null,
   "id": "b052ca13",
   "metadata": {},
   "outputs": [],
   "source": [
    "#print(df_chart_events.query('ITEMID == 220179 and VALUENUM < 90').head())"
   ]
  },
  {
   "cell_type": "code",
   "execution_count": null,
   "id": "91940e91",
   "metadata": {
    "scrolled": true
   },
   "outputs": [],
   "source": [
    "print(df_chart_events.query('ITEMID in (220045, 220046, 220047) & VALUENUM < 100').tail(5))"
   ]
  },
  {
   "cell_type": "code",
   "execution_count": null,
   "id": "b2cb3384",
   "metadata": {
    "scrolled": true
   },
   "outputs": [],
   "source": [
    "#df_chart_events1.head()\n",
    "print(df_chart_events.query('ITEMID == 223761 and VALUE > 99').head())"
   ]
  },
  {
   "cell_type": "code",
   "execution_count": null,
   "id": "5cdabfd7",
   "metadata": {},
   "outputs": [],
   "source": [
    "## ASSIGN diasbplow column based on values\n",
    "df_chart_events['diasbplow'] = ((df_chart_events['ITEMID'] == 220180) & (df_chart_events['VALUENUM'] < 60).astype('int'))"
   ]
  },
  {
   "cell_type": "code",
   "execution_count": null,
   "id": "62c6f371",
   "metadata": {},
   "outputs": [],
   "source": [
    "print(df_chart_events.query('ITEMID == 220180 and VALUE > 60').head())"
   ]
  },
  {
   "cell_type": "code",
   "execution_count": null,
   "id": "38f83647",
   "metadata": {},
   "outputs": [],
   "source": [
    "## ASSIGN meanbplow column based on values\n",
    "df_chart_events['meanbplow'] = ((df_chart_events['ITEMID'] == 220181) & (df_chart_events['VALUENUM'] < 70).astype('int'))"
   ]
  },
  {
   "cell_type": "code",
   "execution_count": null,
   "id": "cc6a2d03",
   "metadata": {
    "scrolled": true
   },
   "outputs": [],
   "source": [
    "print(df_chart_events.query('ITEMID == 220181 and VALUE > 70').head())"
   ]
  },
  {
   "cell_type": "code",
   "execution_count": null,
   "id": "f1f830e4",
   "metadata": {},
   "outputs": [],
   "source": [
    "## ASSIGN fio2high column based on values\n",
    "df_chart_events['fio2high'] = ((df_chart_events['ITEMID'] == 223835) & (df_chart_events['VALUENUM'] > 50).astype('int'))"
   ]
  },
  {
   "cell_type": "code",
   "execution_count": null,
   "id": "23835e29",
   "metadata": {
    "scrolled": true
   },
   "outputs": [],
   "source": [
    "print(df_chart_events.query('ITEMID == 224161').head(5))"
   ]
  },
  {
   "cell_type": "code",
   "execution_count": null,
   "id": "344d58c0",
   "metadata": {},
   "outputs": [],
   "source": [
    "## ASSIGN respratehigh column based on values\n",
    "df_chart_events['respratehigh'] = ((df_chart_events['ITEMID'] == 224161) & (df_chart_events['VALUENUM'] > 20).astype('int'))"
   ]
  },
  {
   "cell_type": "code",
   "execution_count": null,
   "id": "8655f38d",
   "metadata": {
    "scrolled": true
   },
   "outputs": [],
   "source": [
    "print(df_chart_events.query('ITEMID == 224161').head())"
   ]
  },
  {
   "cell_type": "code",
   "execution_count": null,
   "id": "481fe906",
   "metadata": {},
   "outputs": [],
   "source": [
    "## ASSIGN norepinephrine column based on values\n",
    "df_chart_events['norepinephrine'] = (((df_chart_events['ITEMID'] == 3112) | (df_chart_events['ITEMID'] == 221906)) & (df_chart_events['VALUENUM'] > 0))"
   ]
  },
  {
   "cell_type": "code",
   "execution_count": null,
   "id": "217231bd",
   "metadata": {},
   "outputs": [],
   "source": [
    "print(df_chart_events.query('ITEMID == 221906 | ITEMID == 3112 | ITEMID == 224161').head())"
   ]
  },
  {
   "cell_type": "code",
   "execution_count": null,
   "id": "35ffc8e8",
   "metadata": {},
   "outputs": [],
   "source": [
    "## ASSIGN mechanical_ventilator column based on values\n",
    "df_chart_events['mechanical_ventilator'] = (((df_chart_events['ITEMID'] == 6185) | (df_chart_events['ITEMID'] == 226260) | (df_chart_events['ITEMID'] == 225411)))"
   ]
  },
  {
   "cell_type": "code",
   "execution_count": null,
   "id": "fac78081",
   "metadata": {
    "scrolled": true
   },
   "outputs": [],
   "source": [
    "#print(df_chart_events1.query('ITEMID == 226260 | ITEMID == 6185 | ITEMID == 225411').head())\n",
    "df_chart_events.head()"
   ]
  },
  {
   "cell_type": "markdown",
   "id": "94640228",
   "metadata": {},
   "source": [
    "# Create the new columns on Lab Events"
   ]
  },
  {
   "cell_type": "code",
   "execution_count": null,
   "id": "2ccf75c2",
   "metadata": {},
   "outputs": [],
   "source": [
    "## ASSIGN SpO2 column based on values\n",
    "df_lab_events1['spo2high'] = ((df_lab_events1['ITEMID'] == 50821) & (df_lab_events1['VALUENUM'] > 100).astype('int'))"
   ]
  },
  {
   "cell_type": "code",
   "execution_count": null,
   "id": "838fad9e",
   "metadata": {},
   "outputs": [],
   "source": [
    "print(df_lab_events1.query('ITEMID == 50821').head())\n",
    "#print(df_lab_events1.head())"
   ]
  },
  {
   "cell_type": "code",
   "execution_count": null,
   "id": "9829e767",
   "metadata": {},
   "outputs": [],
   "source": [
    "## ASSIGN glucose column based on values\n",
    "df_lab_events1['glucoselow'] = ((df_lab_events1['ITEMID'] == 50931) & (df_lab_events1['VALUENUM'] < 75).astype('int'))"
   ]
  },
  {
   "cell_type": "code",
   "execution_count": null,
   "id": "d1bfe255",
   "metadata": {},
   "outputs": [],
   "source": [
    "print(df_lab_events1.query('ITEMID == 50931').tail())"
   ]
  },
  {
   "cell_type": "code",
   "execution_count": null,
   "id": "97b97c52",
   "metadata": {},
   "outputs": [],
   "source": [
    "## ASSIGN bicarbonatehigh column based on values\n",
    "df_lab_events1['bicarbonatehigh'] = ((df_lab_events1['ITEMID'] == 50882) & (df_lab_events1['VALUENUM'] > 29).astype('int'))"
   ]
  },
  {
   "cell_type": "code",
   "execution_count": null,
   "id": "75dfee12",
   "metadata": {
    "scrolled": true
   },
   "outputs": [],
   "source": [
    "print(df_lab_events1.query('ITEMID == 50882').tail())"
   ]
  },
  {
   "cell_type": "code",
   "execution_count": null,
   "id": "e28eebbc",
   "metadata": {},
   "outputs": [],
   "source": [
    "## ASSIGN bicarbonatelow column based on values\n",
    "df_lab_events1['bicarbonatelow'] = ((df_lab_events1['ITEMID'] == 50882) & (df_lab_events1['VALUENUM'] < 22).astype('int'))"
   ]
  },
  {
   "cell_type": "code",
   "execution_count": null,
   "id": "ca887c1b",
   "metadata": {
    "scrolled": true
   },
   "outputs": [],
   "source": [
    "print(df_lab_events1.query('ITEMID == 50882').tail())"
   ]
  },
  {
   "cell_type": "code",
   "execution_count": null,
   "id": "0bc3bf51",
   "metadata": {},
   "outputs": [],
   "source": [
    "## ASSIGN creatininehigh column based on values\n",
    "df_lab_events1['creatininehigh'] = ((df_lab_events1['ITEMID'] == 50912) & (df_lab_events1['VALUENUM'] > 1.3).astype('int'))"
   ]
  },
  {
   "cell_type": "code",
   "execution_count": null,
   "id": "26107ade",
   "metadata": {
    "scrolled": true
   },
   "outputs": [],
   "source": [
    "print(df_lab_events1.query('ITEMID == 50912').tail())"
   ]
  },
  {
   "cell_type": "code",
   "execution_count": null,
   "id": "d166ba2d",
   "metadata": {},
   "outputs": [],
   "source": [
    "## ASSIGN creatininelow column based on values\n",
    "df_lab_events1['creatininelow'] = ((df_lab_events1['ITEMID'] == 50912) & (df_lab_events1['VALUENUM'] < 0.6).astype('int'))"
   ]
  },
  {
   "cell_type": "code",
   "execution_count": null,
   "id": "724fd572",
   "metadata": {
    "scrolled": true
   },
   "outputs": [],
   "source": [
    "print(df_lab_events1.query('ITEMID == 50912').tail())"
   ]
  },
  {
   "cell_type": "code",
   "execution_count": null,
   "id": "07e265e3",
   "metadata": {},
   "outputs": [],
   "source": [
    "## ASSIGN hematocrithigh column based on values\n",
    "df_lab_events1['hematocrithigh'] = ((df_lab_events1['ITEMID'] == 51221) & (df_lab_events1['VALUENUM'] > 48).astype('int'))"
   ]
  },
  {
   "cell_type": "code",
   "execution_count": null,
   "id": "2b7f28ca",
   "metadata": {
    "scrolled": true
   },
   "outputs": [],
   "source": [
    "print(df_lab_events1.query('ITEMID == 51221').tail(20))"
   ]
  },
  {
   "cell_type": "code",
   "execution_count": null,
   "id": "4da04ae6",
   "metadata": {},
   "outputs": [],
   "source": [
    "## ASSIGN hematocritlow column based on values\n",
    "df_lab_events1['hematocritlow'] = ((df_lab_events1['ITEMID'] == 51221) & (df_lab_events1['VALUENUM'] < 36).astype('int'))"
   ]
  },
  {
   "cell_type": "code",
   "execution_count": null,
   "id": "36268f23",
   "metadata": {
    "scrolled": true
   },
   "outputs": [],
   "source": [
    "print(df_lab_events1.query('ITEMID == 51221').tail(20))"
   ]
  },
  {
   "cell_type": "code",
   "execution_count": null,
   "id": "e7b1b490",
   "metadata": {},
   "outputs": [],
   "source": [
    "## ASSIGN hemoglobinhigh column based on values\n",
    "df_lab_events1['hemoglobinhigh'] = ((df_lab_events1['ITEMID'] == 51222) & (df_lab_events1['VALUENUM'] > 16).astype('int'))"
   ]
  },
  {
   "cell_type": "code",
   "execution_count": null,
   "id": "23c6c56e",
   "metadata": {
    "scrolled": true
   },
   "outputs": [],
   "source": [
    "print(df_lab_events1.query('ITEMID == 51222').head(20))"
   ]
  },
  {
   "cell_type": "code",
   "execution_count": null,
   "id": "f14d8993",
   "metadata": {},
   "outputs": [],
   "source": [
    "## ASSIGN hemoglobinlow column based on values\n",
    "df_lab_events1['hemoglobinlow'] = ((df_lab_events1['ITEMID'] == 51222) & (df_lab_events1['VALUENUM'] < 11.6).astype('int'))"
   ]
  },
  {
   "cell_type": "code",
   "execution_count": null,
   "id": "5d6fa244",
   "metadata": {
    "scrolled": true
   },
   "outputs": [],
   "source": [
    "print(df_lab_events1.query('ITEMID == 51222').head(20))"
   ]
  },
  {
   "cell_type": "code",
   "execution_count": null,
   "id": "cb7f2137",
   "metadata": {},
   "outputs": [],
   "source": [
    "## ASSIGN platelethigh column based on values\n",
    "df_lab_events1['platelethigh'] = ((df_lab_events1['ITEMID'] == 51265) & (df_lab_events1['VALUENUM'] > 450).astype('int'))"
   ]
  },
  {
   "cell_type": "code",
   "execution_count": null,
   "id": "eaed7f39",
   "metadata": {
    "scrolled": true
   },
   "outputs": [],
   "source": [
    "print(df_lab_events1.query('ITEMID == 51265').head(20))"
   ]
  },
  {
   "cell_type": "code",
   "execution_count": null,
   "id": "9b6b331a",
   "metadata": {},
   "outputs": [],
   "source": [
    "## ASSIGN plateletlow column based on values\n",
    "df_lab_events1['plateletlow'] = ((df_lab_events1['ITEMID'] == 51265) & (df_lab_events1['VALUENUM'] < 150).astype('int'))"
   ]
  },
  {
   "cell_type": "code",
   "execution_count": null,
   "id": "cfbde3c1",
   "metadata": {
    "scrolled": true
   },
   "outputs": [],
   "source": [
    "print(df_lab_events1.query('ITEMID == 51265').head(20))"
   ]
  },
  {
   "cell_type": "code",
   "execution_count": null,
   "id": "821754cc",
   "metadata": {},
   "outputs": [],
   "source": [
    "## ASSIGN potassiumhigh column based on values\n",
    "df_lab_events1['potassiumhigh'] = ((df_lab_events1['ITEMID'] == 50971) & (df_lab_events1['VALUENUM'] > 5.2).astype('int'))"
   ]
  },
  {
   "cell_type": "code",
   "execution_count": null,
   "id": "c904ba1d",
   "metadata": {
    "scrolled": true
   },
   "outputs": [],
   "source": [
    "print(df_lab_events1.query('ITEMID == 50971').head(20))"
   ]
  },
  {
   "cell_type": "code",
   "execution_count": null,
   "id": "575df2ab",
   "metadata": {},
   "outputs": [],
   "source": [
    "## ASSIGN potassiumlow column based on values\n",
    "df_lab_events1['potassiumlow'] = ((df_lab_events1['ITEMID'] == 50971) & (df_lab_events1['VALUENUM'] < 3.6).astype('int'))"
   ]
  },
  {
   "cell_type": "code",
   "execution_count": null,
   "id": "ade800b4",
   "metadata": {
    "scrolled": true
   },
   "outputs": [],
   "source": [
    "print(df_lab_events1.query('ITEMID == 50971').head(20))"
   ]
  },
  {
   "cell_type": "code",
   "execution_count": null,
   "id": "0fa455b4",
   "metadata": {},
   "outputs": [],
   "source": [
    "## ASSIGN bunhigh column based on values\n",
    "df_lab_events1['bunhigh'] = ((df_lab_events1['ITEMID'] == 51006) & (df_lab_events1['VALUENUM'] > 23).astype('int'))"
   ]
  },
  {
   "cell_type": "code",
   "execution_count": null,
   "id": "75820e4d",
   "metadata": {},
   "outputs": [],
   "source": [
    "print(df_lab_events1.query('ITEMID == 51006').head(20))"
   ]
  },
  {
   "cell_type": "code",
   "execution_count": null,
   "id": "924198f8",
   "metadata": {},
   "outputs": [],
   "source": [
    "## ASSIGN bunlow column based on values\n",
    "df_lab_events1['bunlow'] = ((df_lab_events1['ITEMID'] == 51006) & (df_lab_events1['VALUENUM'] < 7).astype('int'))"
   ]
  },
  {
   "cell_type": "code",
   "execution_count": null,
   "id": "e38be6d2",
   "metadata": {},
   "outputs": [],
   "source": [
    "print(df_lab_events1.query('ITEMID == 51006').tail(20))"
   ]
  },
  {
   "cell_type": "code",
   "execution_count": null,
   "id": "3e41fe17",
   "metadata": {},
   "outputs": [],
   "source": [
    "## ASSIGN wbchigh column based on values\n",
    "df_lab_events1['wbchigh'] = ((df_lab_events1['ITEMID'] == 51301) & (df_lab_events1['VALUENUM'] > 11).astype('int'))"
   ]
  },
  {
   "cell_type": "code",
   "execution_count": null,
   "id": "bbb234f5",
   "metadata": {},
   "outputs": [],
   "source": [
    "print(df_lab_events1.query('ITEMID == 51301').tail(20))"
   ]
  },
  {
   "cell_type": "code",
   "execution_count": null,
   "id": "376c5637",
   "metadata": {},
   "outputs": [],
   "source": [
    "## ASSIGN wbclow column based on values\n",
    "df_lab_events1['wbclow'] = ((df_lab_events1['ITEMID'] == 51301) & (df_lab_events1['VALUENUM'] < 4.5).astype('int'))"
   ]
  },
  {
   "cell_type": "code",
   "execution_count": null,
   "id": "835b4d58",
   "metadata": {},
   "outputs": [],
   "source": [
    "print(df_lab_events1.query('ITEMID == 51301').head(20))"
   ]
  },
  {
   "cell_type": "code",
   "execution_count": null,
   "id": "96d383bf",
   "metadata": {},
   "outputs": [],
   "source": [
    "## ASSIGN antibiotics column based on values\n",
    "df_lab_events1['antibiotics'] = (((df_lab_events1['ITEMID'] == 51009) | (df_lab_events1['ITEMID'] == 50865) | (df_lab_events1['ITEMID'] == 50929) | (df_lab_events1['ITEMID'] == 50997)) & (df_lab_events1['VALUENUM'] > 0).astype('int'))"
   ]
  },
  {
   "cell_type": "code",
   "execution_count": null,
   "id": "f0831c60",
   "metadata": {},
   "outputs": [],
   "source": [
    "print(df_lab_events1.query('ITEMID == 51009 | ITEMID == 50865 | ITEMID == 50929 | ITEMID == 50997').tail(10))"
   ]
  },
  {
   "cell_type": "markdown",
   "id": "4035c401-6320-4913-b66b-1570221970de",
   "metadata": {},
   "source": [
    "# Re-check the files post the new columns added"
   ]
  },
  {
   "cell_type": "code",
   "execution_count": null,
   "id": "646a9c4d-3935-43d5-826f-fc4f94293e2f",
   "metadata": {},
   "outputs": [],
   "source": [
    "df_chart_events.head(2)"
   ]
  },
  {
   "cell_type": "code",
   "execution_count": null,
   "id": "e538c32e-1b96-4dc5-84aa-20cda7308537",
   "metadata": {},
   "outputs": [],
   "source": [
    "df_lab_events1.head(2)"
   ]
  },
  {
   "cell_type": "code",
   "execution_count": null,
   "id": "a3f32eb9-22e2-4027-bea2-d12c97959b39",
   "metadata": {},
   "outputs": [],
   "source": [
    "df_lab_events1.query('FLAG == \"abnormal\"').count()\n",
    "#df_lab_events1.count()\n",
    "#f_chart_events.count()"
   ]
  },
  {
   "cell_type": "markdown",
   "id": "77283659",
   "metadata": {},
   "source": [
    "# Write both event files to the csv files"
   ]
  },
  {
   "cell_type": "code",
   "execution_count": null,
   "id": "b2fda839",
   "metadata": {},
   "outputs": [],
   "source": [
    "#from pathlib import Path  \n",
    "#filepath = Path('C:/Users/Chicki/Desktop/Data/updated')  \n",
    "#filepath.parent.mkdir(parents=True, exist_ok=True)  "
   ]
  },
  {
   "cell_type": "code",
   "execution_count": null,
   "id": "b30d59c6",
   "metadata": {},
   "outputs": [],
   "source": [
    "#df.to_csv ('C:/Users/Chicki/Desktop/Data/updated/ChartEvents_conv.csv', index = None, header=True)"
   ]
  },
  {
   "cell_type": "code",
   "execution_count": null,
   "id": "0c43e01a",
   "metadata": {},
   "outputs": [],
   "source": [
    "#df_chart_events.to_csv ('C:/Users/Chicki/Desktop/Data/updated/ChartEvents_conv.csv', index = None, header=True)"
   ]
  },
  {
   "cell_type": "code",
   "execution_count": null,
   "id": "8171708c",
   "metadata": {},
   "outputs": [],
   "source": [
    "#df_lab_events1.to_csv ('C:/Users/Chicki/Desktop/Data/updated/LabEvents_conv.csv', index = None, header=True)"
   ]
  },
  {
   "cell_type": "markdown",
   "id": "518c02b0-5095-4a37-9a18-7a7f95fbea89",
   "metadata": {
    "tags": []
   },
   "source": [
    "## SORT THROUGH the CHART EVENTS file to create a SINGLE record for each ADMISSION"
   ]
  },
  {
   "cell_type": "code",
   "execution_count": null,
   "id": "1e04cfe9-85ed-47cb-99f2-b572014ba245",
   "metadata": {},
   "outputs": [],
   "source": [
    "sorted_df_chart_events = df_chart_events.sort_values(by = ['SUBJECT_ID','HADM_ID'], axis = 0, ascending = False, inplace = False)\n",
    "#sorted_df_chart_events.query('HADM_ID == 115247')\n",
    "#sorted_df_chart_events.groupby('HADM_ID').nunique()\n",
    "sorted_df_chart_events.head()"
   ]
  },
  {
   "cell_type": "code",
   "execution_count": null,
   "id": "c87f1650-9ca4-4f41-862f-cd68047e0a47",
   "metadata": {},
   "outputs": [],
   "source": [
    "#print(sorted_df_chart_events['SUBJECT_ID'].loc[sorted_df_chart_events.index[1]])\n",
    "#dataframe_used = sorted_df_chart_events.head(100)\n",
    "#dataframe_used.tail()\n",
    "#dataframe_used.dtypes\n",
    "#print(dataframe_used.columns.get_loc('SUBJECT_ID'))"
   ]
  },
  {
   "cell_type": "code",
   "execution_count": null,
   "id": "e9d77287-fc04-45a8-a4e8-cf869946f72b",
   "metadata": {},
   "outputs": [],
   "source": [
    "### CREATE the consolidated record for each ADMISSION ID in CHART EVENTS\n",
    "temp_SUBJECT = 0\n",
    "temp_HADM = 0\n",
    "i = 0\n",
    "j = 0\n",
    "k = 0\n",
    "new_chart_events = pd.DataFrame()\n",
    "\n",
    "## just update last record with a different SUBJECT_ID to check code working\n",
    "#dataframe_used.at[99,'SUBJECT_ID'] = 69\n",
    "##\n",
    "for i, row in sorted_df_chart_events.iterrows():\n",
    "    \n",
    "    #if temp_SUBJECT != dataframe_used['SUBJECT_ID'].loc[dataframe_used.index[i]]:\n",
    "    #if temp_SUBJECT != dataframe_used.iloc[i,0]:\n",
    "    if temp_SUBJECT == row['SUBJECT_ID']:\n",
    "        continue                                          \n",
    "    #temp_SUBJECT = dataframe_used['SUBJECT_ID'].loc[dataframe_used.index[i]]\n",
    "    #temp_SUBJECT = dataframe_used.iloc[i,0]\n",
    "    temp_SUBJECT = row['SUBJECT_ID']\n",
    "    temp_df = sorted_df_chart_events.query('SUBJECT_ID == @temp_SUBJECT')\n",
    "    #print(temp_df)\n",
    "    \n",
    "    for j, row1 in temp_df.iterrows():\n",
    "        #if temp_HADM != temp_df['HADM_ID'].loc[temp_df.index[j]]:\n",
    "        if temp_HADM != row1['HADM_ID']: \n",
    "            k = k + 1\n",
    "            temp_HADM = row1['HADM_ID']\n",
    "            temp_df1 = temp_df.query('HADM_ID == @temp_HADM')\n",
    "            new_chart_events.at[k,'SUBJECT_ID'] = row1['SUBJECT_ID']\n",
    "            new_chart_events.at[k,'HADM_ID'] = row1['HADM_ID']\n",
    "           # new_df.head()\n",
    "            for col_name in temp_df1[['temphigh','heartratehigh','sysbplow','diasbplow','meanbplow','fio2high','respratehigh','norepinephrine','mechanical_ventilator']]:\n",
    "                #    new_df.at[k,col_name] = temp_df1.apply(lambda x: True if temp_df1[[x]].all() else False, axis=1)\n",
    "                    new_chart_events.at[k, col_name] = temp_df1[col_name].any()\n",
    "                                               \n",
    "                                          \n",
    "#print(new_df.head(5))\n",
    "#print(k)\n",
    "new_chart_events.count()\n",
    "    "
   ]
  },
  {
   "cell_type": "code",
   "execution_count": null,
   "id": "2c8ff2e6-efa3-4a51-ac94-b16a69f0c5eb",
   "metadata": {},
   "outputs": [],
   "source": [
    "#TEST_df = temp_df1.head(5)\n",
    "#TEST_df['temphigh'] = True\n",
    "#for col_name in TEST_df[['SUBJECT_ID','temphigh', 'heartratehigh']]:\n",
    "#    print(TEST_df[col_name].any())\n",
    "    \n",
    "#print(TEST_df)"
   ]
  },
  {
   "cell_type": "code",
   "execution_count": null,
   "id": "f6a5cf55-2510-475d-aa92-9b87953b4fa8",
   "metadata": {},
   "outputs": [],
   "source": [
    "#Check for the unique values in the main columns we are looking for\n",
    "for col_name in new_chart_events[['temphigh','heartratehigh','sysbplow','diasbplow','meanbplow','fio2high','respratehigh','norepinephrine','mechanical_ventilator']]:    \n",
    "    print(new_chart_events[col_name].unique())\n",
    "    #print(col_name)"
   ]
  },
  {
   "cell_type": "markdown",
   "id": "36d870e0-2f69-4a11-b56e-1298f2b08131",
   "metadata": {
    "tags": []
   },
   "source": [
    "temp_SUBJECT = 1\n",
    "temp_SUBJECT1 = 1\n",
    "temp_HADM1 = 1\n",
    "\n",
    "#for i, row in sorted_df_chart_events.head(2).iterrows(): \n",
    "    #temp_SUBJECT = row[i]\n",
    "    #print(f\"{row['ITEMID']}\")\n",
    "x = 0    \n",
    "xx = sorted_df_chart_events.head(5)\n",
    "#print(xx)\n",
    "for i, row in xx.iterrows():\n",
    "    #if temp_SUBJECT == xx.at[i, 'SUBJECT_ID'].all():\n",
    "    #if temp_SUBJECT == xx['SUBJECT_ID'].iloc[i]\n",
    "    #if temp_SUBJECT == xx.iloc[[0],['SUBJECT_ID']]:\n",
    "    if temp_SUBJECT == row['SUBJECT_ID']: \n",
    "    #if temp_SUBJECT == xx['SUBJECT_ID'].loc[xx.index[i]]:\n",
    "        continue                                          \n",
    "    temp_SUBJECT = row['SUBJECT_ID']\n",
    "    #temp_SUBJECT == row['SUBJECT_ID']\n",
    "    #print(temp_SUBJECT)\n",
    "    temp_df =  xx.query('SUBJECT_ID == @temp_SUBJECT')\n",
    "    for j, row1 in temp_df.iterrows():\n",
    "            #print(temp_df.count)\n",
    "            temp_SUBJECT1 = row1['SUBJECT_ID']\n",
    "            temp_HADM1 = row1['HADM_ID']\n",
    "            temp_ITEMID1 = row1['ITEMID']\n",
    "            #temp_HADM1 = xx['HADM_ID'].loc[xx.index[i]]\n",
    "            #print(temp_HADM1)\n",
    "            print(temp_ITEMID1)"
   ]
  },
  {
   "cell_type": "code",
   "execution_count": null,
   "id": "2fe1b967-af7c-45bd-b6cc-6733aeafcb52",
   "metadata": {},
   "outputs": [],
   "source": [
    "#temp_df = dataframe_used.query('SUBJECT_ID == 99983')\n",
    "#y = temp_df['HADM_ID'].loc[temp_df.index[1]]\n",
    "\n",
    "#y = dataframe_used['HADM_ID'].loc[dataframe_used.index[99]]\n",
    "#y = dataframe_used.iloc[1,1]\n",
    "#print(y)\n",
    "#if y != dataframe_used['SUBJECT_ID'].loc[dataframe_used.index[1]]:\n",
    " #   print(\"value not matching:\", dataframe_used['SUBJECT_ID'].loc[dataframe_used.index[1]])\n",
    "#print(y)"
   ]
  },
  {
   "cell_type": "code",
   "execution_count": null,
   "id": "24a69041-7840-4663-b36a-38b516cc3fdc",
   "metadata": {},
   "outputs": [],
   "source": [
    "new_chart_events.head(10)"
   ]
  },
  {
   "cell_type": "markdown",
   "id": "8be33cb6-251c-4757-88f5-e0f0c467a390",
   "metadata": {},
   "source": [
    "### Write the New Chart Events file to a csv"
   ]
  },
  {
   "cell_type": "code",
   "execution_count": null,
   "id": "33eeb75d-ec76-4031-a867-91b295a0e65e",
   "metadata": {},
   "outputs": [],
   "source": [
    "new_chart_events.to_csv('C:/Users/Chicki/Desktop/Data/updated/new_chart_events.csv', index = None, header=True)"
   ]
  },
  {
   "cell_type": "markdown",
   "id": "9fcef5f0-1717-4c3d-85d6-44ffd2a164a4",
   "metadata": {},
   "source": [
    "## SORT THROUGH THE LAB EVENTS FILE TO CREATE A SINGLE RECORD FOR EACH ADMISSION"
   ]
  },
  {
   "cell_type": "code",
   "execution_count": null,
   "id": "491251d1-c12c-499a-a17d-3e428b80128a",
   "metadata": {},
   "outputs": [],
   "source": [
    "sorted_df_lab_events = df_lab_events1.sort_values(by = ['SUBJECT_ID','HADM_ID'], axis = 0, ascending = False, inplace = False)\n",
    "#sorted_df_lab_events.query('HADM_ID == 115247')\n",
    "#sorted_df_lab_events.groupby('HADM_ID').nunique()\n",
    "sorted_df_lab_events.tail()"
   ]
  },
  {
   "cell_type": "code",
   "execution_count": null,
   "id": "b725bd46-37c4-484f-884f-9e40d9ac6f10",
   "metadata": {},
   "outputs": [],
   "source": [
    "# ColNames to be used to create the new dataframe\n",
    "for col_name in sorted_df_lab_events:    \n",
    "    #print(new_chart_events[col_name].unique())\n",
    "    print(col_name)"
   ]
  },
  {
   "cell_type": "code",
   "execution_count": null,
   "id": "5bd8ed8f-6e4c-4754-b51b-821874ce68e0",
   "metadata": {},
   "outputs": [],
   "source": [
    "### CREATE the consolidated record for each ADMISSION ID in \"LAB\" EVENTS\n",
    "temp_SUBJECT = 0\n",
    "temp_HADM = 0\n",
    "i = 0\n",
    "j = 0\n",
    "k = 0\n",
    "new_lab_events = pd.DataFrame()\n",
    "\n",
    "## just update last record with a different SUBJECT_ID to check code working\n",
    "#dataframe_used.at[99,'SUBJECT_ID'] = 69\n",
    "##\n",
    "for i, row in sorted_df_lab_events.iterrows():\n",
    "    \n",
    "    #if temp_SUBJECT != dataframe_used['SUBJECT_ID'].loc[dataframe_used.index[i]]:\n",
    "    #if temp_SUBJECT != dataframe_used.iloc[i,0]:\n",
    "    if temp_SUBJECT == row['SUBJECT_ID']:\n",
    "        continue                                          \n",
    "    #temp_SUBJECT = dataframe_used['SUBJECT_ID'].loc[dataframe_used.index[i]]\n",
    "    #temp_SUBJECT = dataframe_used.iloc[i,0]\n",
    "    temp_SUBJECT = row['SUBJECT_ID']\n",
    "    temp_df = sorted_df_lab_events.query('SUBJECT_ID == @temp_SUBJECT')\n",
    "    #print(temp_df)\n",
    "    \n",
    "    for j, row1 in temp_df.iterrows():\n",
    "        #if temp_HADM != temp_df['HADM_ID'].loc[temp_df.index[j]]:\n",
    "        if temp_HADM != row1['HADM_ID']: \n",
    "            k = k + 1\n",
    "            temp_HADM = row1['HADM_ID']\n",
    "            temp_df1 = temp_df.query('HADM_ID == @temp_HADM')\n",
    "            new_lab_events.at[k,'SUBJECT_ID'] = row1['SUBJECT_ID']\n",
    "            new_lab_events.at[k,'HADM_ID'] = row1['HADM_ID']\n",
    "           # new_df.head()\n",
    "            for col_name in temp_df1[['spo2high','glucoselow','bicarbonatehigh','bicarbonatelow','creatininehigh','creatininelow','hematocrithigh','hematocritlow','hemoglobinhigh','hemoglobinlow',\n",
    "                                      'platelethigh','plateletlow','potassiumhigh','potassiumlow','bunhigh','bunlow','wbchigh','wbclow','antibiotics']]:\n",
    "                #    new_df.at[k,col_name] = temp_df1.apply(lambda x: True if temp_df1[[x]].all() else False, axis=1)\n",
    "                    new_lab_events.at[k, col_name] = temp_df1[col_name].any()\n",
    "                                               \n",
    "                                          \n",
    "#print(new_df.head(5))\n",
    "#print(k)\n",
    "new_lab_events.count()"
   ]
  },
  {
   "cell_type": "code",
   "execution_count": null,
   "id": "aa6a8822-aeaf-4a8a-b849-fce690858b09",
   "metadata": {},
   "outputs": [],
   "source": [
    "#Check for the unique values in the main columns we are looking for\n",
    "for col_name in new_lab_events[['spo2high','glucoselow','bicarbonatehigh','bicarbonatelow','creatininehigh','creatininelow','hematocrithigh','hematocritlow','hemoglobinhigh','hemoglobinlow',\n",
    "                                      'platelethigh','plateletlow','potassiumhigh','potassiumlow','bunhigh','bunlow','wbchigh','wbclow','antibiotics']]:\n",
    "    print(new_lab_events[col_name].unique())\n",
    "    #print(col_name)"
   ]
  },
  {
   "cell_type": "code",
   "execution_count": null,
   "id": "fcc3f482-2990-4138-b203-69e29be0c138",
   "metadata": {},
   "outputs": [],
   "source": [
    "new_lab_events.head()\n",
    "#new_lab_events.count()"
   ]
  },
  {
   "cell_type": "markdown",
   "id": "b9be6ec7-d602-470a-abe6-499e9485edda",
   "metadata": {},
   "source": [
    "## Write the New Lab Events file to a csv"
   ]
  },
  {
   "cell_type": "code",
   "execution_count": null,
   "id": "9af3d533-f80f-4329-8f1a-d50a2b08b4c5",
   "metadata": {},
   "outputs": [],
   "source": [
    "new_lab_events.to_csv('C:/Users/Chicki/Desktop/Data/updated/new_lab_events.csv', index = None, header=True)"
   ]
  },
  {
   "cell_type": "markdown",
   "id": "ca8330ec-5f81-4775-87b4-62ac24a3b003",
   "metadata": {},
   "source": [
    "## In case the new files are not in current session, read the new files in..."
   ]
  },
  {
   "cell_type": "code",
   "execution_count": 3,
   "id": "73c30c68-b5b4-441f-9c44-60e05b555820",
   "metadata": {},
   "outputs": [],
   "source": [
    "new_chart_events = pd.read_csv('C:/Users/Chicki/Desktop/Data/updated/new_chart_events.csv')"
   ]
  },
  {
   "cell_type": "code",
   "execution_count": 4,
   "id": "f6aeccde-784b-4342-b898-d0aeb2539220",
   "metadata": {},
   "outputs": [],
   "source": [
    "new_lab_events = pd.read_csv('C:/Users/Chicki/Desktop/Data/updated/new_lab_events.csv')"
   ]
  },
  {
   "cell_type": "code",
   "execution_count": 5,
   "id": "dc93f84d-2718-4dec-8279-eed80ab06019",
   "metadata": {},
   "outputs": [
    {
     "data": {
      "text/plain": [
       "SUBJECT_ID               10760\n",
       "HADM_ID                  10760\n",
       "temphigh                 10760\n",
       "heartratehigh            10760\n",
       "sysbplow                 10760\n",
       "diasbplow                10760\n",
       "meanbplow                10760\n",
       "fio2high                 10760\n",
       "respratehigh             10760\n",
       "norepinephrine           10760\n",
       "mechanical_ventilator    10760\n",
       "dtype: int64"
      ]
     },
     "execution_count": 5,
     "metadata": {},
     "output_type": "execute_result"
    }
   ],
   "source": [
    "new_chart_events.count()"
   ]
  },
  {
   "cell_type": "code",
   "execution_count": 6,
   "id": "6b813db7-ebd5-49a8-a070-e8459313f7a5",
   "metadata": {},
   "outputs": [
    {
     "data": {
      "text/plain": [
       "SUBJECT_ID         19438\n",
       "HADM_ID            19438\n",
       "spo2high           19438\n",
       "glucoselow         19438\n",
       "bicarbonatehigh    19438\n",
       "bicarbonatelow     19438\n",
       "creatininehigh     19438\n",
       "creatininelow      19438\n",
       "hematocrithigh     19438\n",
       "hematocritlow      19438\n",
       "hemoglobinhigh     19438\n",
       "hemoglobinlow      19438\n",
       "platelethigh       19438\n",
       "plateletlow        19438\n",
       "potassiumhigh      19438\n",
       "potassiumlow       19438\n",
       "bunhigh            19438\n",
       "bunlow             19438\n",
       "wbchigh            19438\n",
       "wbclow             19438\n",
       "antibiotics        19438\n",
       "dtype: int64"
      ]
     },
     "execution_count": 6,
     "metadata": {},
     "output_type": "execute_result"
    }
   ],
   "source": [
    "new_lab_events.count()"
   ]
  },
  {
   "cell_type": "markdown",
   "id": "747f891d-230c-4dd4-95cd-70833771832b",
   "metadata": {},
   "source": [
    "### JOIN the two EVENTS FILES... FINALLY!!!"
   ]
  },
  {
   "cell_type": "code",
   "execution_count": 9,
   "id": "8320edab-ff8b-40d7-a553-fa8e411b3155",
   "metadata": {},
   "outputs": [
    {
     "data": {
      "text/plain": [
       "SUBJECT_ID               7120\n",
       "HADM_ID                  7120\n",
       "spo2high                 7120\n",
       "glucoselow               7120\n",
       "bicarbonatehigh          7120\n",
       "bicarbonatelow           7120\n",
       "creatininehigh           7120\n",
       "creatininelow            7120\n",
       "hematocrithigh           7120\n",
       "hematocritlow            7120\n",
       "hemoglobinhigh           7120\n",
       "hemoglobinlow            7120\n",
       "platelethigh             7120\n",
       "plateletlow              7120\n",
       "potassiumhigh            7120\n",
       "potassiumlow             7120\n",
       "bunhigh                  7120\n",
       "bunlow                   7120\n",
       "wbchigh                  7120\n",
       "wbclow                   7120\n",
       "antibiotics              7120\n",
       "temphigh                 7120\n",
       "heartratehigh            7120\n",
       "sysbplow                 7120\n",
       "diasbplow                7120\n",
       "meanbplow                7120\n",
       "fio2high                 7120\n",
       "respratehigh             7120\n",
       "norepinephrine           7120\n",
       "mechanical_ventilator    7120\n",
       "dtype: int64"
      ]
     },
     "execution_count": 9,
     "metadata": {},
     "output_type": "execute_result"
    }
   ],
   "source": [
    "df_final_input = pd.merge(new_lab_events, new_chart_events, on = ('SUBJECT_ID','HADM_ID'), how = 'inner')\n",
    "df_final_input.count()"
   ]
  },
  {
   "cell_type": "code",
   "execution_count": 7,
   "id": "3c119961-040c-450c-9047-d19e8f0f7aec",
   "metadata": {},
   "outputs": [
    {
     "data": {
      "text/html": [
       "<div>\n",
       "<style scoped>\n",
       "    .dataframe tbody tr th:only-of-type {\n",
       "        vertical-align: middle;\n",
       "    }\n",
       "\n",
       "    .dataframe tbody tr th {\n",
       "        vertical-align: top;\n",
       "    }\n",
       "\n",
       "    .dataframe thead th {\n",
       "        text-align: right;\n",
       "    }\n",
       "</style>\n",
       "<table border=\"1\" class=\"dataframe\">\n",
       "  <thead>\n",
       "    <tr style=\"text-align: right;\">\n",
       "      <th></th>\n",
       "      <th>SUBJECT_ID</th>\n",
       "      <th>HADM_ID</th>\n",
       "      <th>temphigh</th>\n",
       "      <th>heartratehigh</th>\n",
       "      <th>sysbplow</th>\n",
       "      <th>diasbplow</th>\n",
       "      <th>meanbplow</th>\n",
       "      <th>fio2high</th>\n",
       "      <th>respratehigh</th>\n",
       "      <th>norepinephrine</th>\n",
       "      <th>mechanical_ventilator</th>\n",
       "    </tr>\n",
       "  </thead>\n",
       "  <tbody>\n",
       "    <tr>\n",
       "      <th>0</th>\n",
       "      <td>99995.0</td>\n",
       "      <td>137810.0</td>\n",
       "      <td>True</td>\n",
       "      <td>True</td>\n",
       "      <td>False</td>\n",
       "      <td>True</td>\n",
       "      <td>True</td>\n",
       "      <td>False</td>\n",
       "      <td>True</td>\n",
       "      <td>False</td>\n",
       "      <td>False</td>\n",
       "    </tr>\n",
       "    <tr>\n",
       "      <th>1</th>\n",
       "      <td>99983.0</td>\n",
       "      <td>117390.0</td>\n",
       "      <td>True</td>\n",
       "      <td>True</td>\n",
       "      <td>True</td>\n",
       "      <td>True</td>\n",
       "      <td>True</td>\n",
       "      <td>False</td>\n",
       "      <td>True</td>\n",
       "      <td>False</td>\n",
       "      <td>False</td>\n",
       "    </tr>\n",
       "    <tr>\n",
       "      <th>2</th>\n",
       "      <td>99982.0</td>\n",
       "      <td>183791.0</td>\n",
       "      <td>False</td>\n",
       "      <td>True</td>\n",
       "      <td>True</td>\n",
       "      <td>True</td>\n",
       "      <td>True</td>\n",
       "      <td>False</td>\n",
       "      <td>True</td>\n",
       "      <td>False</td>\n",
       "      <td>False</td>\n",
       "    </tr>\n",
       "    <tr>\n",
       "      <th>3</th>\n",
       "      <td>99965.0</td>\n",
       "      <td>101083.0</td>\n",
       "      <td>False</td>\n",
       "      <td>True</td>\n",
       "      <td>False</td>\n",
       "      <td>True</td>\n",
       "      <td>True</td>\n",
       "      <td>False</td>\n",
       "      <td>True</td>\n",
       "      <td>False</td>\n",
       "      <td>False</td>\n",
       "    </tr>\n",
       "    <tr>\n",
       "      <th>4</th>\n",
       "      <td>99957.0</td>\n",
       "      <td>148574.0</td>\n",
       "      <td>False</td>\n",
       "      <td>True</td>\n",
       "      <td>False</td>\n",
       "      <td>True</td>\n",
       "      <td>True</td>\n",
       "      <td>False</td>\n",
       "      <td>True</td>\n",
       "      <td>False</td>\n",
       "      <td>False</td>\n",
       "    </tr>\n",
       "  </tbody>\n",
       "</table>\n",
       "</div>"
      ],
      "text/plain": [
       "   SUBJECT_ID   HADM_ID  temphigh  heartratehigh  sysbplow  diasbplow  \\\n",
       "0     99995.0  137810.0      True           True     False       True   \n",
       "1     99983.0  117390.0      True           True      True       True   \n",
       "2     99982.0  183791.0     False           True      True       True   \n",
       "3     99965.0  101083.0     False           True     False       True   \n",
       "4     99957.0  148574.0     False           True     False       True   \n",
       "\n",
       "   meanbplow  fio2high  respratehigh  norepinephrine  mechanical_ventilator  \n",
       "0       True     False          True           False                  False  \n",
       "1       True     False          True           False                  False  \n",
       "2       True     False          True           False                  False  \n",
       "3       True     False          True           False                  False  \n",
       "4       True     False          True           False                  False  "
      ]
     },
     "execution_count": 7,
     "metadata": {},
     "output_type": "execute_result"
    }
   ],
   "source": [
    "new_chart_events.head()"
   ]
  },
  {
   "cell_type": "code",
   "execution_count": 8,
   "id": "5fe708ca-59c0-48c6-b7de-29fd11f249e7",
   "metadata": {},
   "outputs": [
    {
     "data": {
      "text/html": [
       "<div>\n",
       "<style scoped>\n",
       "    .dataframe tbody tr th:only-of-type {\n",
       "        vertical-align: middle;\n",
       "    }\n",
       "\n",
       "    .dataframe tbody tr th {\n",
       "        vertical-align: top;\n",
       "    }\n",
       "\n",
       "    .dataframe thead th {\n",
       "        text-align: right;\n",
       "    }\n",
       "</style>\n",
       "<table border=\"1\" class=\"dataframe\">\n",
       "  <thead>\n",
       "    <tr style=\"text-align: right;\">\n",
       "      <th></th>\n",
       "      <th>SUBJECT_ID</th>\n",
       "      <th>HADM_ID</th>\n",
       "      <th>spo2high</th>\n",
       "      <th>glucoselow</th>\n",
       "      <th>bicarbonatehigh</th>\n",
       "      <th>bicarbonatelow</th>\n",
       "      <th>creatininehigh</th>\n",
       "      <th>creatininelow</th>\n",
       "      <th>hematocrithigh</th>\n",
       "      <th>hematocritlow</th>\n",
       "      <th>...</th>\n",
       "      <th>hemoglobinlow</th>\n",
       "      <th>platelethigh</th>\n",
       "      <th>plateletlow</th>\n",
       "      <th>potassiumhigh</th>\n",
       "      <th>potassiumlow</th>\n",
       "      <th>bunhigh</th>\n",
       "      <th>bunlow</th>\n",
       "      <th>wbchigh</th>\n",
       "      <th>wbclow</th>\n",
       "      <th>antibiotics</th>\n",
       "    </tr>\n",
       "  </thead>\n",
       "  <tbody>\n",
       "    <tr>\n",
       "      <th>0</th>\n",
       "      <td>99983.0</td>\n",
       "      <td>117390.0</td>\n",
       "      <td>False</td>\n",
       "      <td>False</td>\n",
       "      <td>True</td>\n",
       "      <td>False</td>\n",
       "      <td>True</td>\n",
       "      <td>False</td>\n",
       "      <td>False</td>\n",
       "      <td>True</td>\n",
       "      <td>...</td>\n",
       "      <td>True</td>\n",
       "      <td>False</td>\n",
       "      <td>False</td>\n",
       "      <td>False</td>\n",
       "      <td>False</td>\n",
       "      <td>False</td>\n",
       "      <td>False</td>\n",
       "      <td>False</td>\n",
       "      <td>False</td>\n",
       "      <td>False</td>\n",
       "    </tr>\n",
       "    <tr>\n",
       "      <th>1</th>\n",
       "      <td>99957.0</td>\n",
       "      <td>148574.0</td>\n",
       "      <td>False</td>\n",
       "      <td>False</td>\n",
       "      <td>False</td>\n",
       "      <td>False</td>\n",
       "      <td>False</td>\n",
       "      <td>False</td>\n",
       "      <td>False</td>\n",
       "      <td>True</td>\n",
       "      <td>...</td>\n",
       "      <td>False</td>\n",
       "      <td>True</td>\n",
       "      <td>False</td>\n",
       "      <td>False</td>\n",
       "      <td>True</td>\n",
       "      <td>False</td>\n",
       "      <td>False</td>\n",
       "      <td>True</td>\n",
       "      <td>False</td>\n",
       "      <td>False</td>\n",
       "    </tr>\n",
       "    <tr>\n",
       "      <th>2</th>\n",
       "      <td>99955.0</td>\n",
       "      <td>108494.0</td>\n",
       "      <td>True</td>\n",
       "      <td>False</td>\n",
       "      <td>False</td>\n",
       "      <td>True</td>\n",
       "      <td>True</td>\n",
       "      <td>False</td>\n",
       "      <td>False</td>\n",
       "      <td>True</td>\n",
       "      <td>...</td>\n",
       "      <td>True</td>\n",
       "      <td>False</td>\n",
       "      <td>True</td>\n",
       "      <td>False</td>\n",
       "      <td>True</td>\n",
       "      <td>True</td>\n",
       "      <td>False</td>\n",
       "      <td>True</td>\n",
       "      <td>False</td>\n",
       "      <td>True</td>\n",
       "    </tr>\n",
       "    <tr>\n",
       "      <th>3</th>\n",
       "      <td>99944.0</td>\n",
       "      <td>185654.0</td>\n",
       "      <td>False</td>\n",
       "      <td>False</td>\n",
       "      <td>True</td>\n",
       "      <td>False</td>\n",
       "      <td>True</td>\n",
       "      <td>False</td>\n",
       "      <td>False</td>\n",
       "      <td>True</td>\n",
       "      <td>...</td>\n",
       "      <td>True</td>\n",
       "      <td>False</td>\n",
       "      <td>False</td>\n",
       "      <td>True</td>\n",
       "      <td>True</td>\n",
       "      <td>True</td>\n",
       "      <td>False</td>\n",
       "      <td>True</td>\n",
       "      <td>False</td>\n",
       "      <td>False</td>\n",
       "    </tr>\n",
       "    <tr>\n",
       "      <th>4</th>\n",
       "      <td>99939.0</td>\n",
       "      <td>159023.0</td>\n",
       "      <td>True</td>\n",
       "      <td>False</td>\n",
       "      <td>False</td>\n",
       "      <td>True</td>\n",
       "      <td>True</td>\n",
       "      <td>False</td>\n",
       "      <td>False</td>\n",
       "      <td>True</td>\n",
       "      <td>...</td>\n",
       "      <td>True</td>\n",
       "      <td>False</td>\n",
       "      <td>True</td>\n",
       "      <td>True</td>\n",
       "      <td>False</td>\n",
       "      <td>True</td>\n",
       "      <td>False</td>\n",
       "      <td>True</td>\n",
       "      <td>False</td>\n",
       "      <td>False</td>\n",
       "    </tr>\n",
       "  </tbody>\n",
       "</table>\n",
       "<p>5 rows × 21 columns</p>\n",
       "</div>"
      ],
      "text/plain": [
       "   SUBJECT_ID   HADM_ID  spo2high  glucoselow  bicarbonatehigh  \\\n",
       "0     99983.0  117390.0     False       False             True   \n",
       "1     99957.0  148574.0     False       False            False   \n",
       "2     99955.0  108494.0      True       False            False   \n",
       "3     99944.0  185654.0     False       False             True   \n",
       "4     99939.0  159023.0      True       False            False   \n",
       "\n",
       "   bicarbonatelow  creatininehigh  creatininelow  hematocrithigh  \\\n",
       "0           False            True          False           False   \n",
       "1           False           False          False           False   \n",
       "2            True            True          False           False   \n",
       "3           False            True          False           False   \n",
       "4            True            True          False           False   \n",
       "\n",
       "   hematocritlow  ...  hemoglobinlow  platelethigh  plateletlow  \\\n",
       "0           True  ...           True         False        False   \n",
       "1           True  ...          False          True        False   \n",
       "2           True  ...           True         False         True   \n",
       "3           True  ...           True         False        False   \n",
       "4           True  ...           True         False         True   \n",
       "\n",
       "   potassiumhigh  potassiumlow  bunhigh  bunlow  wbchigh  wbclow  antibiotics  \n",
       "0          False         False    False   False    False   False        False  \n",
       "1          False          True    False   False     True   False        False  \n",
       "2          False          True     True   False     True   False         True  \n",
       "3           True          True     True   False     True   False        False  \n",
       "4           True         False     True   False     True   False        False  \n",
       "\n",
       "[5 rows x 21 columns]"
      ]
     },
     "execution_count": 8,
     "metadata": {},
     "output_type": "execute_result"
    }
   ],
   "source": [
    "new_lab_events.head()"
   ]
  },
  {
   "cell_type": "code",
   "execution_count": 10,
   "id": "17323bc9-d369-49a1-a502-bd4f903ba37a",
   "metadata": {},
   "outputs": [
    {
     "data": {
      "text/html": [
       "<div>\n",
       "<style scoped>\n",
       "    .dataframe tbody tr th:only-of-type {\n",
       "        vertical-align: middle;\n",
       "    }\n",
       "\n",
       "    .dataframe tbody tr th {\n",
       "        vertical-align: top;\n",
       "    }\n",
       "\n",
       "    .dataframe thead th {\n",
       "        text-align: right;\n",
       "    }\n",
       "</style>\n",
       "<table border=\"1\" class=\"dataframe\">\n",
       "  <thead>\n",
       "    <tr style=\"text-align: right;\">\n",
       "      <th></th>\n",
       "      <th>SUBJECT_ID</th>\n",
       "      <th>HADM_ID</th>\n",
       "      <th>spo2high</th>\n",
       "      <th>glucoselow</th>\n",
       "      <th>bicarbonatehigh</th>\n",
       "      <th>bicarbonatelow</th>\n",
       "      <th>creatininehigh</th>\n",
       "      <th>creatininelow</th>\n",
       "      <th>hematocrithigh</th>\n",
       "      <th>hematocritlow</th>\n",
       "      <th>...</th>\n",
       "      <th>antibiotics</th>\n",
       "      <th>temphigh</th>\n",
       "      <th>heartratehigh</th>\n",
       "      <th>sysbplow</th>\n",
       "      <th>diasbplow</th>\n",
       "      <th>meanbplow</th>\n",
       "      <th>fio2high</th>\n",
       "      <th>respratehigh</th>\n",
       "      <th>norepinephrine</th>\n",
       "      <th>mechanical_ventilator</th>\n",
       "    </tr>\n",
       "  </thead>\n",
       "  <tbody>\n",
       "    <tr>\n",
       "      <th>0</th>\n",
       "      <td>99983.0</td>\n",
       "      <td>117390.0</td>\n",
       "      <td>False</td>\n",
       "      <td>False</td>\n",
       "      <td>True</td>\n",
       "      <td>False</td>\n",
       "      <td>True</td>\n",
       "      <td>False</td>\n",
       "      <td>False</td>\n",
       "      <td>True</td>\n",
       "      <td>...</td>\n",
       "      <td>False</td>\n",
       "      <td>True</td>\n",
       "      <td>True</td>\n",
       "      <td>True</td>\n",
       "      <td>True</td>\n",
       "      <td>True</td>\n",
       "      <td>False</td>\n",
       "      <td>True</td>\n",
       "      <td>False</td>\n",
       "      <td>False</td>\n",
       "    </tr>\n",
       "    <tr>\n",
       "      <th>1</th>\n",
       "      <td>99957.0</td>\n",
       "      <td>148574.0</td>\n",
       "      <td>False</td>\n",
       "      <td>False</td>\n",
       "      <td>False</td>\n",
       "      <td>False</td>\n",
       "      <td>False</td>\n",
       "      <td>False</td>\n",
       "      <td>False</td>\n",
       "      <td>True</td>\n",
       "      <td>...</td>\n",
       "      <td>False</td>\n",
       "      <td>False</td>\n",
       "      <td>True</td>\n",
       "      <td>False</td>\n",
       "      <td>True</td>\n",
       "      <td>True</td>\n",
       "      <td>False</td>\n",
       "      <td>True</td>\n",
       "      <td>False</td>\n",
       "      <td>False</td>\n",
       "    </tr>\n",
       "    <tr>\n",
       "      <th>2</th>\n",
       "      <td>99955.0</td>\n",
       "      <td>108494.0</td>\n",
       "      <td>True</td>\n",
       "      <td>False</td>\n",
       "      <td>False</td>\n",
       "      <td>True</td>\n",
       "      <td>True</td>\n",
       "      <td>False</td>\n",
       "      <td>False</td>\n",
       "      <td>True</td>\n",
       "      <td>...</td>\n",
       "      <td>True</td>\n",
       "      <td>True</td>\n",
       "      <td>True</td>\n",
       "      <td>True</td>\n",
       "      <td>True</td>\n",
       "      <td>True</td>\n",
       "      <td>True</td>\n",
       "      <td>True</td>\n",
       "      <td>False</td>\n",
       "      <td>False</td>\n",
       "    </tr>\n",
       "    <tr>\n",
       "      <th>3</th>\n",
       "      <td>99944.0</td>\n",
       "      <td>185654.0</td>\n",
       "      <td>False</td>\n",
       "      <td>False</td>\n",
       "      <td>True</td>\n",
       "      <td>False</td>\n",
       "      <td>True</td>\n",
       "      <td>False</td>\n",
       "      <td>False</td>\n",
       "      <td>True</td>\n",
       "      <td>...</td>\n",
       "      <td>False</td>\n",
       "      <td>True</td>\n",
       "      <td>True</td>\n",
       "      <td>False</td>\n",
       "      <td>True</td>\n",
       "      <td>True</td>\n",
       "      <td>True</td>\n",
       "      <td>True</td>\n",
       "      <td>False</td>\n",
       "      <td>False</td>\n",
       "    </tr>\n",
       "    <tr>\n",
       "      <th>4</th>\n",
       "      <td>99939.0</td>\n",
       "      <td>159023.0</td>\n",
       "      <td>True</td>\n",
       "      <td>False</td>\n",
       "      <td>False</td>\n",
       "      <td>True</td>\n",
       "      <td>True</td>\n",
       "      <td>False</td>\n",
       "      <td>False</td>\n",
       "      <td>True</td>\n",
       "      <td>...</td>\n",
       "      <td>False</td>\n",
       "      <td>True</td>\n",
       "      <td>True</td>\n",
       "      <td>False</td>\n",
       "      <td>False</td>\n",
       "      <td>False</td>\n",
       "      <td>True</td>\n",
       "      <td>True</td>\n",
       "      <td>False</td>\n",
       "      <td>False</td>\n",
       "    </tr>\n",
       "  </tbody>\n",
       "</table>\n",
       "<p>5 rows × 30 columns</p>\n",
       "</div>"
      ],
      "text/plain": [
       "   SUBJECT_ID   HADM_ID  spo2high  glucoselow  bicarbonatehigh  \\\n",
       "0     99983.0  117390.0     False       False             True   \n",
       "1     99957.0  148574.0     False       False            False   \n",
       "2     99955.0  108494.0      True       False            False   \n",
       "3     99944.0  185654.0     False       False             True   \n",
       "4     99939.0  159023.0      True       False            False   \n",
       "\n",
       "   bicarbonatelow  creatininehigh  creatininelow  hematocrithigh  \\\n",
       "0           False            True          False           False   \n",
       "1           False           False          False           False   \n",
       "2            True            True          False           False   \n",
       "3           False            True          False           False   \n",
       "4            True            True          False           False   \n",
       "\n",
       "   hematocritlow  ...  antibiotics  temphigh  heartratehigh  sysbplow  \\\n",
       "0           True  ...        False      True           True      True   \n",
       "1           True  ...        False     False           True     False   \n",
       "2           True  ...         True      True           True      True   \n",
       "3           True  ...        False      True           True     False   \n",
       "4           True  ...        False      True           True     False   \n",
       "\n",
       "   diasbplow  meanbplow  fio2high  respratehigh  norepinephrine  \\\n",
       "0       True       True     False          True           False   \n",
       "1       True       True     False          True           False   \n",
       "2       True       True      True          True           False   \n",
       "3       True       True      True          True           False   \n",
       "4      False      False      True          True           False   \n",
       "\n",
       "   mechanical_ventilator  \n",
       "0                  False  \n",
       "1                  False  \n",
       "2                  False  \n",
       "3                  False  \n",
       "4                  False  \n",
       "\n",
       "[5 rows x 30 columns]"
      ]
     },
     "execution_count": 10,
     "metadata": {},
     "output_type": "execute_result"
    }
   ],
   "source": [
    "df_final_input.head()"
   ]
  },
  {
   "cell_type": "markdown",
   "id": "35bfb96c-3eff-4857-a145-b8500dce9183",
   "metadata": {},
   "source": [
    "### Drop the unnecessary columns from the final input.. i.e. subject id and hadm id"
   ]
  },
  {
   "cell_type": "code",
   "execution_count": 11,
   "id": "d0b4d0c9-db4e-4092-9669-9ed44ba4bedc",
   "metadata": {},
   "outputs": [
    {
     "data": {
      "text/html": [
       "<div>\n",
       "<style scoped>\n",
       "    .dataframe tbody tr th:only-of-type {\n",
       "        vertical-align: middle;\n",
       "    }\n",
       "\n",
       "    .dataframe tbody tr th {\n",
       "        vertical-align: top;\n",
       "    }\n",
       "\n",
       "    .dataframe thead th {\n",
       "        text-align: right;\n",
       "    }\n",
       "</style>\n",
       "<table border=\"1\" class=\"dataframe\">\n",
       "  <thead>\n",
       "    <tr style=\"text-align: right;\">\n",
       "      <th></th>\n",
       "      <th>spo2high</th>\n",
       "      <th>glucoselow</th>\n",
       "      <th>bicarbonatehigh</th>\n",
       "      <th>bicarbonatelow</th>\n",
       "      <th>creatininehigh</th>\n",
       "      <th>creatininelow</th>\n",
       "      <th>hematocrithigh</th>\n",
       "      <th>hematocritlow</th>\n",
       "      <th>hemoglobinhigh</th>\n",
       "      <th>hemoglobinlow</th>\n",
       "      <th>...</th>\n",
       "      <th>antibiotics</th>\n",
       "      <th>temphigh</th>\n",
       "      <th>heartratehigh</th>\n",
       "      <th>sysbplow</th>\n",
       "      <th>diasbplow</th>\n",
       "      <th>meanbplow</th>\n",
       "      <th>fio2high</th>\n",
       "      <th>respratehigh</th>\n",
       "      <th>norepinephrine</th>\n",
       "      <th>mechanical_ventilator</th>\n",
       "    </tr>\n",
       "  </thead>\n",
       "  <tbody>\n",
       "    <tr>\n",
       "      <th>0</th>\n",
       "      <td>False</td>\n",
       "      <td>False</td>\n",
       "      <td>True</td>\n",
       "      <td>False</td>\n",
       "      <td>True</td>\n",
       "      <td>False</td>\n",
       "      <td>False</td>\n",
       "      <td>True</td>\n",
       "      <td>False</td>\n",
       "      <td>True</td>\n",
       "      <td>...</td>\n",
       "      <td>False</td>\n",
       "      <td>True</td>\n",
       "      <td>True</td>\n",
       "      <td>True</td>\n",
       "      <td>True</td>\n",
       "      <td>True</td>\n",
       "      <td>False</td>\n",
       "      <td>True</td>\n",
       "      <td>False</td>\n",
       "      <td>False</td>\n",
       "    </tr>\n",
       "    <tr>\n",
       "      <th>1</th>\n",
       "      <td>False</td>\n",
       "      <td>False</td>\n",
       "      <td>False</td>\n",
       "      <td>False</td>\n",
       "      <td>False</td>\n",
       "      <td>False</td>\n",
       "      <td>False</td>\n",
       "      <td>True</td>\n",
       "      <td>False</td>\n",
       "      <td>False</td>\n",
       "      <td>...</td>\n",
       "      <td>False</td>\n",
       "      <td>False</td>\n",
       "      <td>True</td>\n",
       "      <td>False</td>\n",
       "      <td>True</td>\n",
       "      <td>True</td>\n",
       "      <td>False</td>\n",
       "      <td>True</td>\n",
       "      <td>False</td>\n",
       "      <td>False</td>\n",
       "    </tr>\n",
       "    <tr>\n",
       "      <th>2</th>\n",
       "      <td>True</td>\n",
       "      <td>False</td>\n",
       "      <td>False</td>\n",
       "      <td>True</td>\n",
       "      <td>True</td>\n",
       "      <td>False</td>\n",
       "      <td>False</td>\n",
       "      <td>True</td>\n",
       "      <td>False</td>\n",
       "      <td>True</td>\n",
       "      <td>...</td>\n",
       "      <td>True</td>\n",
       "      <td>True</td>\n",
       "      <td>True</td>\n",
       "      <td>True</td>\n",
       "      <td>True</td>\n",
       "      <td>True</td>\n",
       "      <td>True</td>\n",
       "      <td>True</td>\n",
       "      <td>False</td>\n",
       "      <td>False</td>\n",
       "    </tr>\n",
       "    <tr>\n",
       "      <th>3</th>\n",
       "      <td>False</td>\n",
       "      <td>False</td>\n",
       "      <td>True</td>\n",
       "      <td>False</td>\n",
       "      <td>True</td>\n",
       "      <td>False</td>\n",
       "      <td>False</td>\n",
       "      <td>True</td>\n",
       "      <td>False</td>\n",
       "      <td>True</td>\n",
       "      <td>...</td>\n",
       "      <td>False</td>\n",
       "      <td>True</td>\n",
       "      <td>True</td>\n",
       "      <td>False</td>\n",
       "      <td>True</td>\n",
       "      <td>True</td>\n",
       "      <td>True</td>\n",
       "      <td>True</td>\n",
       "      <td>False</td>\n",
       "      <td>False</td>\n",
       "    </tr>\n",
       "    <tr>\n",
       "      <th>4</th>\n",
       "      <td>True</td>\n",
       "      <td>False</td>\n",
       "      <td>False</td>\n",
       "      <td>True</td>\n",
       "      <td>True</td>\n",
       "      <td>False</td>\n",
       "      <td>False</td>\n",
       "      <td>True</td>\n",
       "      <td>False</td>\n",
       "      <td>True</td>\n",
       "      <td>...</td>\n",
       "      <td>False</td>\n",
       "      <td>True</td>\n",
       "      <td>True</td>\n",
       "      <td>False</td>\n",
       "      <td>False</td>\n",
       "      <td>False</td>\n",
       "      <td>True</td>\n",
       "      <td>True</td>\n",
       "      <td>False</td>\n",
       "      <td>False</td>\n",
       "    </tr>\n",
       "  </tbody>\n",
       "</table>\n",
       "<p>5 rows × 28 columns</p>\n",
       "</div>"
      ],
      "text/plain": [
       "   spo2high  glucoselow  bicarbonatehigh  bicarbonatelow  creatininehigh  \\\n",
       "0     False       False             True           False            True   \n",
       "1     False       False            False           False           False   \n",
       "2      True       False            False            True            True   \n",
       "3     False       False             True           False            True   \n",
       "4      True       False            False            True            True   \n",
       "\n",
       "   creatininelow  hematocrithigh  hematocritlow  hemoglobinhigh  \\\n",
       "0          False           False           True           False   \n",
       "1          False           False           True           False   \n",
       "2          False           False           True           False   \n",
       "3          False           False           True           False   \n",
       "4          False           False           True           False   \n",
       "\n",
       "   hemoglobinlow  ...  antibiotics  temphigh  heartratehigh  sysbplow  \\\n",
       "0           True  ...        False      True           True      True   \n",
       "1          False  ...        False     False           True     False   \n",
       "2           True  ...         True      True           True      True   \n",
       "3           True  ...        False      True           True     False   \n",
       "4           True  ...        False      True           True     False   \n",
       "\n",
       "   diasbplow  meanbplow  fio2high  respratehigh  norepinephrine  \\\n",
       "0       True       True     False          True           False   \n",
       "1       True       True     False          True           False   \n",
       "2       True       True      True          True           False   \n",
       "3       True       True      True          True           False   \n",
       "4      False      False      True          True           False   \n",
       "\n",
       "   mechanical_ventilator  \n",
       "0                  False  \n",
       "1                  False  \n",
       "2                  False  \n",
       "3                  False  \n",
       "4                  False  \n",
       "\n",
       "[5 rows x 28 columns]"
      ]
     },
     "execution_count": 11,
     "metadata": {},
     "output_type": "execute_result"
    }
   ],
   "source": [
    "df_final_input = df_final_input.drop(['SUBJECT_ID', 'HADM_ID'], axis=1)\n",
    "df_final_input.head()"
   ]
  },
  {
   "cell_type": "code",
   "execution_count": 12,
   "id": "dfde1e1d-2fc3-4c81-a97e-7d1526987787",
   "metadata": {},
   "outputs": [],
   "source": [
    "### WRITE THE FINAL INPUT FILE OUT.....\n",
    "\n",
    "df_final_input.to_csv('C:/Users/Chicki/Desktop/Data/updated/final_input.csv', index = None, header=True)"
   ]
  },
  {
   "cell_type": "markdown",
   "id": "c7de7689-ad52-4d79-809a-cf316f38521f",
   "metadata": {},
   "source": [
    "### DATA PREPARATION FOR THE MODEL - TRAIN AND TEST SETS"
   ]
  },
  {
   "cell_type": "code",
   "execution_count": 19,
   "id": "2d590401-54c1-442c-b951-3fe43eaeee45",
   "metadata": {},
   "outputs": [
    {
     "ename": "NameError",
     "evalue": "name 'train_dataset' is not defined",
     "output_type": "error",
     "traceback": [
      "\u001b[1;31m---------------------------------------------------------------------------\u001b[0m",
      "\u001b[1;31mNameError\u001b[0m                                 Traceback (most recent call last)",
      "\u001b[1;32m~\\AppData\\Local\\Temp\\ipykernel_46256\\501694875.py\u001b[0m in \u001b[0;36m<module>\u001b[1;34m\u001b[0m\n\u001b[0;32m    134\u001b[0m     \u001b[1;32mreturn\u001b[0m \u001b[0mtrain_dataset\u001b[0m\u001b[1;33m,\u001b[0m \u001b[0mcalibration_dataset\u001b[0m\u001b[1;33m,\u001b[0m \u001b[0mtest_dataset\u001b[0m\u001b[1;33m\u001b[0m\u001b[1;33m\u001b[0m\u001b[0m\n\u001b[0;32m    135\u001b[0m \u001b[1;33m\u001b[0m\u001b[0m\n\u001b[1;32m--> 136\u001b[1;33m \u001b[0mprint\u001b[0m\u001b[1;33m(\u001b[0m\u001b[0mtrain_dataset\u001b[0m\u001b[1;33m.\u001b[0m\u001b[0mhead\u001b[0m\u001b[1;33m(\u001b[0m\u001b[1;33m)\u001b[0m\u001b[1;33m)\u001b[0m\u001b[1;33m\u001b[0m\u001b[1;33m\u001b[0m\u001b[0m\n\u001b[0m",
      "\u001b[1;31mNameError\u001b[0m: name 'train_dataset' is not defined"
     ]
    }
   ],
   "source": [
    "class MIMICDataset(torch.utils.data.Dataset):\n",
    "    def __init__(self, X, Y, sequence_lengths):\n",
    "        super(MIMICDataset, self).__init__()\n",
    "        self.X = X\n",
    "        self.Y = Y\n",
    "        self.sequence_lengths = sequence_lengths\n",
    "\n",
    "    def __len__(self):\n",
    "        return len(self.X)\n",
    "\n",
    "    def __getitem__(self, idx):\n",
    "        return self.X[idx], self.Y[idx], self.sequence_lengths[idx]\n",
    "\n",
    "\n",
    "def process_mimic_data(feature=\"wbchigh\"):\n",
    "    feature_names = [\n",
    "        \"temphigh\",\n",
    "        \"heartratehigh\",\n",
    "        \"sysbplow\",\n",
    "        \"diasbplow\",\n",
    "        \"meanbplow\",\n",
    "        \"spo2high\",\n",
    "        \"fio2high\",\n",
    "        \"respratelow\",\n",
    "        \"glucoselow\",\n",
    "        \"bicarbonatehigh\",\n",
    "        \"bicarbonatelow\",\n",
    "        \"creatininehigh\",\n",
    "        \"creatininelow\",\n",
    "        \"hematocrithigh\",\n",
    "        \"hematocritlow\",\n",
    "        \"hemoglobinhigh\",\n",
    "        \"hemoglobinlow\",\n",
    "        \"platelethigh\",\n",
    "        \"plateletlow\",\n",
    "        \"potassiumlow\",\n",
    "        \"potassiumhigh\",\n",
    "        \"bunhigh\",\n",
    "        \"bunlow\",\n",
    "        \"wbchigh\",\n",
    "        \"wbclow\",\n",
    "        \"antibiotics\",\n",
    "        \"norepinephrine\",\n",
    "        \"mechanical_ventilator\"\n",
    "        #\"age\",\n",
    "       # \"weight\",\n",
    "    ]\n",
    "\n",
    "    idx = feature_names.index(feature)\n",
    "\n",
    "#    with open(mimic_root, \"rb\") as f:\n",
    "#        MIMIC_data = pickle.load(f)\n",
    "\n",
    "    MIMIC_data = pd.read_csv('C:/Users/Chicki/Desktop/Data/updated/final_input.csv')\n",
    "    \n",
    "    Y = MIMIC_data[\"longitudinal\"][:, :, idx]  # 'wbchigh'\n",
    "    L = MIMIC_data[\"trajectory_lengths\"]\n",
    "\n",
    "    return Y, L\n",
    "\n",
    "\n",
    "def get_mimic_dataset(X, Y, L, idx):\n",
    "    X_ = torch.nn.utils.rnn.pad_sequence([torch.FloatTensor(X[i]).reshape(-1, 1) for i in idx], batch_first=True)\n",
    "    Y_ = torch.nn.utils.rnn.pad_sequence(\n",
    "        [torch.FloatTensor(Y[i]).reshape(-1, 1) for i in idx], batch_first=True\n",
    "    ).float()\n",
    "\n",
    "    return MIMICDataset(X_, Y_, [L[i] for i in idx])\n",
    "\n",
    "\n",
    "def get_mimic_splits(\n",
    "    n_train=2000, n_calibration=1823, n_test=500, conformal=True, feature=\"wbchigh\", horizon=2, cached=True, seed=None\n",
    "):\n",
    "    if seed is None:\n",
    "        seed = 0\n",
    "    else:\n",
    "        cached = False\n",
    "\n",
    "    if cached:\n",
    "        if conformal:\n",
    "            with open(\"processed_data/mimic_conformal.pkl\", \"rb\") as f:\n",
    "                train_dataset, calibration_dataset, test_dataset = pickle.load(f)\n",
    "        else:\n",
    "            with open(\"processed_data/mimic_raw.pkl\", \"rb\") as f:\n",
    "                train_dataset, calibration_dataset, test_dataset = pickle.load(f)\n",
    "\n",
    "    else:\n",
    "        perm = np.random.RandomState(seed=seed).permutation(n_train + n_calibration + n_test)\n",
    "        train_idx = perm[:n_train]\n",
    "        calibration_idx = perm[n_train : n_train + n_calibration]\n",
    "        train_calibration_idx = perm[: n_train + n_calibration]\n",
    "        test_idx = perm[n_train + n_calibration :]\n",
    "\n",
    "        Y, L = process_mimic_data(feature=feature)\n",
    "        assert n_train + n_calibration + n_test == len(np.where(L > 4)[0])\n",
    "\n",
    "        scaler = StandardScaler()\n",
    "        scaler.fit(Y[np.where(L > 4)[0]][train_idx].reshape(-1, 1))\n",
    "\n",
    "        X_ = []\n",
    "        X_unscaled = []\n",
    "        Y_ = []\n",
    "        L_ = []\n",
    "        for k in np.where(L > 4)[0]:\n",
    "            X_.append(scaler.transform(Y[k, : L[k] - horizon].reshape(-1, 1)).reshape(L[k] - horizon))\n",
    "            X_unscaled.append(Y[k, : L[k] - horizon])\n",
    "            Y_.append(Y[k, L[k] - horizon : L[k]])\n",
    "            L_.append(L[k])\n",
    "\n",
    "        X_test = [X_unscaled[i] for i in test_idx]\n",
    "        Y_test = [Y_[i] for i in test_idx]\n",
    "        with open(\"processed_data/mimic_test_vis.pkl\", \"wb\") as f:\n",
    "            pickle.dump((X_test, Y_test), f, protocol=pickle.HIGHEST_PROTOCOL)\n",
    "\n",
    "        if conformal:\n",
    "            train_dataset = get_mimic_dataset(X_, Y_, L, train_idx)\n",
    "            calibration_dataset = get_mimic_dataset(X_, Y_, L, calibration_idx)\n",
    "            test_dataset = get_mimic_dataset(X_, Y_, L, test_idx)\n",
    "\n",
    "            with open(\"processed_data/mimic_conformal.pkl\", \"wb\") as f:\n",
    "                pickle.dump((train_dataset, calibration_dataset, test_dataset), f, protocol=pickle.HIGHEST_PROTOCOL)\n",
    "\n",
    "        else:\n",
    "            train_dataset = (\n",
    "                [X_[i] for i in train_calibration_idx],\n",
    "                [Y_[i] for i in train_calibration_idx],\n",
    "            )\n",
    "            calibration_dataset = None\n",
    "            test_dataset = [X_[i] for i in test_idx], [Y_[i] for i in test_idx]\n",
    "\n",
    "            with open(\"processed_data/mimic_raw.pkl\", \"wb\") as f:\n",
    "                pickle.dump((train_dataset, calibration_dataset, test_dataset), f, protocol=pickle.HIGHEST_PROTOCOL)\n",
    "\n",
    "    return train_dataset, calibration_dataset, test_dataset\n",
    "\n",
    "print(train_dataset.head())"
   ]
  },
  {
   "cell_type": "code",
   "execution_count": null,
   "id": "27112370-1e46-49f2-b9de-bd6cec95cc72",
   "metadata": {},
   "outputs": [],
   "source": []
  },
  {
   "cell_type": "code",
   "execution_count": null,
   "id": "2a6a1143-7483-48b2-9085-e11b08b1ccef",
   "metadata": {},
   "outputs": [],
   "source": []
  },
  {
   "cell_type": "markdown",
   "id": "4d8b3599",
   "metadata": {
    "tags": []
   },
   "source": [
    "#  Items"
   ]
  },
  {
   "cell_type": "code",
   "execution_count": null,
   "id": "abbacdab",
   "metadata": {},
   "outputs": [],
   "source": [
    "#df_items = pd.read_csv('C:/Users/Chicki/Desktop/Data/D_ITEMS.csv')\n",
    "#print((df_items.head(5)))\n",
    "#print(df_items['ITEMID' == 40055])\n",
    "#print(df_items.query('ITEMID == 225411' or 'ITEMID = 6185'))\n",
    "#query_items = df_items.query('ITEMID == 50821')\n",
    "#query_items = df_items.query('UNITNAME == \"%\"')\n",
    "#query_items = df_items.query('ITEMID')\n",
    "#print(query_items)"
   ]
  },
  {
   "cell_type": "code",
   "execution_count": null,
   "id": "2dcd8e15",
   "metadata": {},
   "outputs": [],
   "source": [
    "#query_items_specific = df_items.query('LABEL.str.contains(\"rate\", na=False)', engine = 'python', )\n",
    "#query_items_specific = df_items.query('LABEL.str.contains(\"antib\", na=False)', engine = 'python', )\n",
    "#print(query_items_specific.head(20))\n",
    "#df_items['LABEL'].str.contains('sys', na=False)"
   ]
  },
  {
   "cell_type": "markdown",
   "id": "098a187d",
   "metadata": {},
   "source": [
    "# Lab Items"
   ]
  },
  {
   "cell_type": "code",
   "execution_count": null,
   "id": "96f84a0f",
   "metadata": {},
   "outputs": [],
   "source": [
    "#df_lab_items = pd.read_csv('C:/Users/Chicki/Desktop/Data/D_LABITEMS.csv')\n",
    "##print((df_lab_items.head(5)))\n",
    "#query_lab_items = df_lab_items.query('ITEMID == 51006')\n",
    "#query_lab_events = df_lab_items.query('ontains(\"Gas\", na=False)', engine = 'python')\n",
    "#query_lab_items = df_lab_items.query('LABEL.str.contains(\"cin\", na=False)', engine = 'python')\n",
    "#print(query_lab_items)\n"
   ]
  },
  {
   "cell_type": "code",
   "execution_count": null,
   "id": "7c7564b2",
   "metadata": {},
   "outputs": [],
   "source": [
    "#df_micro_events = pd.read_csv('C:/Users/Chicki/Desktop/Data/MICROBIOLOGYEVENTS1.csv', nrows = 9000000)\n",
    "#print(df_micro_events.tail(5))"
   ]
  },
  {
   "cell_type": "markdown",
   "id": "f92e650b",
   "metadata": {},
   "source": [
    "## Found no matches between items and lab items"
   ]
  },
  {
   "cell_type": "code",
   "execution_count": null,
   "id": "3db894ca",
   "metadata": {},
   "outputs": [],
   "source": [
    "#df_items_join = pd.merge(df_items, df_lab_items, on = 'ITEMID', how = 'inner')\n",
    "#df_items_join.count()\n",
    "#df_items_outer_join = pd.merge(df_items, df_lab_items, on = 'ITEMID', how = 'left')\n",
    "#df_items_outer_join.count()"
   ]
  },
  {
   "cell_type": "markdown",
   "id": "39dcb83b",
   "metadata": {},
   "source": [
    "# Join of the Chart events and Items"
   ]
  },
  {
   "cell_type": "code",
   "execution_count": null,
   "id": "eab6a0f3",
   "metadata": {},
   "outputs": [],
   "source": [
    "#df_chart_events_join = pd.merge(df_chart_events1, df_items, on = 'ITEMID', how = 'left')\n",
    "#df_chart_events_join.count()\n",
    "#df_chart_events_join.head(5)\n",
    "#df_chart_events_join.isnull().sum()\n",
    "#query_chart_events_join = df_chart_events_join.query('ABBREVIATION.str.contains(\"weig\", na=False)', engine = 'python')\n",
    "#query_chart_events_join = df_chart_events_join.query('ITEMID == 225411')\n",
    "#df_chart_events_join.sort_values(by=['HADM_ID']).head(5)\n",
    "#print(query_chart_events_join)"
   ]
  },
  {
   "cell_type": "code",
   "execution_count": null,
   "id": "dff6ac08",
   "metadata": {
    "scrolled": true
   },
   "outputs": [],
   "source": [
    "#df_items.isnull().sum()\n",
    "#df_chart_events_join.count()"
   ]
  },
  {
   "cell_type": "code",
   "execution_count": null,
   "id": "ecae6238",
   "metadata": {},
   "outputs": [],
   "source": [
    "#query1_chart_events_join = df_chart_events_join.query('ITEMID == 50821', engine = 'python', )\n",
    "#query1_chart_events_join = df_chart_events_join.query('ITEMID == 223835', engine = 'python')\n",
    "#query1_chart_events_join = df_chart_events_join.query('LABEL.str.contains(\"wei\", na=False)', engine = 'python', )\n",
    "#query1_chart_events_join = df_chart_events_join.query('VALUEUOM.str.contains(\"%\", na=False)', engine = 'python', )\n",
    "#query1_chart_events_join.head(5)"
   ]
  },
  {
   "cell_type": "markdown",
   "id": "9450bc11",
   "metadata": {},
   "source": [
    "# Join of the Lab events and Lab items"
   ]
  },
  {
   "cell_type": "code",
   "execution_count": null,
   "id": "88a30ac6",
   "metadata": {},
   "outputs": [],
   "source": [
    "new_chart_events.count()\n",
    "#df_lab_events_join = pd.merge(df_lab_events, df_lab_items, on = 'ITEMID', how = 'left')\n",
    "#df_lab_events_join.count()\n",
    "#df_lab_events_join.head(5)\n",
    "#df_lab_events_join.isnull().sum()"
   ]
  },
  {
   "cell_type": "code",
   "execution_count": null,
   "id": "61fe3a99",
   "metadata": {
    "scrolled": true
   },
   "outputs": [],
   "source": [
    "#query_lab_events_join = df_lab_events_join.query('FLAG == \"abnormal\" & VALUEUOM.str.contains(\"bp\", na=False)', engine = 'python')\n",
    "#query_lab_events_join = df_lab_events_join.query('FLAG == \"abnormal\"', engine = 'python')\n",
    "#query_lab_events_join = df_lab_events_join.query('ITEMID == 50821')\n",
    "#query_lab_events_join = df_lab_events_join.query('LABEL.str.contains(\"rate\", na=False)', engine = 'python')\n",
    "#query_lab_events_join = df_lab_events_join.query('VALUEUOM.str.contains(\"bp\", na=False)', engine = 'python')\n",
    "#query_lab_events_join.head(5)"
   ]
  },
  {
   "cell_type": "code",
   "execution_count": null,
   "id": "41048b80",
   "metadata": {},
   "outputs": [],
   "source": [
    "#WBC ITEMID is 51301. Flag 'Abnormal' shows the wbc is high\n",
    "#query1_lab_events_join = df_lab_events_join.query('ITEMID == 50821')\n",
    "#query1_lab_events_join.count()\n",
    "#query1_lab_events_join = df_lab_events_join.query('LABEL.str.contains(\"temp\", na=False)', engine = 'python', )\n",
    "#query1_lab_events_join.tail(10)"
   ]
  },
  {
   "cell_type": "markdown",
   "id": "07197385",
   "metadata": {},
   "source": [
    "# Check for admission records "
   ]
  },
  {
   "cell_type": "code",
   "execution_count": null,
   "id": "0f5b24cd",
   "metadata": {},
   "outputs": [],
   "source": [
    "#query1_lab_events_join = df_lab_events_join.query('HADM_ID == 148595')\n",
    "#query1_lab_events_join.tail(10)"
   ]
  },
  {
   "cell_type": "code",
   "execution_count": null,
   "id": "ba181b42",
   "metadata": {},
   "outputs": [],
   "source": [
    "#query1_chart_events_join = df_lab_events_join.query('HADM_ID == 148595')\n",
    "#query1_chart_events_join.tail(10)"
   ]
  },
  {
   "cell_type": "markdown",
   "id": "cffd6e54",
   "metadata": {},
   "source": [
    "# Join the Chart and Lab events"
   ]
  },
  {
   "cell_type": "markdown",
   "id": "81044d96",
   "metadata": {},
   "source": [
    "# just trials first"
   ]
  },
  {
   "cell_type": "code",
   "execution_count": null,
   "id": "b4614a90",
   "metadata": {},
   "outputs": [],
   "source": [
    "#trial_chart = df_chart_events1.head(10000)\n",
    "#trial_lab = df_lab_events1.head(10000)\n",
    "#trial_join = pd.merge(trial_chart, trial_lab, on = 'HADM_ID', how = 'inner')\n",
    "trial_join.count()\n",
    "#trial_join.head(5)"
   ]
  },
  {
   "cell_type": "code",
   "execution_count": null,
   "id": "1c7e73d0",
   "metadata": {},
   "outputs": [],
   "source": [
    "#trial_join1 = pd.merge(trial_chart, trial_lab, on = 'HADM_ID', how = 'outer')\n",
    "#trial_join1.count()\n",
    "#trial_join1.head(5)"
   ]
  },
  {
   "cell_type": "code",
   "execution_count": null,
   "id": "13f88e49",
   "metadata": {},
   "outputs": [],
   "source": [
    "#trial_join2 = pd.merge(trial_chart, trial_lab, on = 'HADM_ID', how = 'right')\n",
    "#trial_join2.count()\n",
    "#print(trial_join2.query('HADM_ID == 165660'))\n",
    "#trial_join2.isna().sum()  -- to find the NA values in each column"
   ]
  },
  {
   "cell_type": "code",
   "execution_count": null,
   "id": "be5f589e",
   "metadata": {},
   "outputs": [],
   "source": [
    "#df_lab_events1.count()"
   ]
  },
  {
   "cell_type": "code",
   "execution_count": null,
   "id": "354dfe65",
   "metadata": {},
   "outputs": [],
   "source": [
    "#df_chart_events1.count()"
   ]
  },
  {
   "cell_type": "code",
   "execution_count": null,
   "id": "e5b4f960",
   "metadata": {
    "scrolled": true
   },
   "outputs": [],
   "source": [
    "#df_join_chart_lab_events = pd.merge(df_chart_events1, df_lab_events1, on = ['SUBJECT_ID','HADM_ID'], how = 'inner', sort=False)\n",
    "#df_join_chart_lab_events.count()"
   ]
  },
  {
   "cell_type": "code",
   "execution_count": null,
   "id": "574b5911",
   "metadata": {},
   "outputs": [],
   "source": [
    "#df_datetime_events = pd.read_csv('C:/Users/Chicki/Desktop/Data/DATETIMEEVENTS.csv', low_memory = False)\n",
    "#query_datetime_events = df_datetime_events.query('WARNING == 1 & VALUEUOM != \"DATE\" & VALUEUOM != \"Date\"', engine = 'python')\n",
    "#query_datetime_events = df_datetime_events.query('ITEMID == 3112')\n",
    "#print(query_datetime_events.head(15))\n",
    "#print(df_datetime_events.head(10))\n",
    "#df_datetime_events.count()\n"
   ]
  },
  {
   "cell_type": "code",
   "execution_count": null,
   "id": "7e3dd317",
   "metadata": {},
   "outputs": [],
   "source": [
    "#df_proc_events = pd.read_csv('C:/Users/Chicki/Desktop/Data/PROCEDUREEVENTS_MV1.csv')\n",
    "#query_proc_events = df_lab_events_join.query('ITEMID == 3112')\n",
    "#print(query_proc_events)\n",
    "#df_proc_events.count()\n",
    "#df_proc_events.head(5)"
   ]
  },
  {
   "cell_type": "code",
   "execution_count": null,
   "id": "38c5db2a",
   "metadata": {
    "scrolled": true
   },
   "outputs": [],
   "source": [
    "#df_note_events = pd.read_csv('C:/Users/Chicki/Desktop/Data/NOTEEVENTS1.csv', nrows=10000000, low_memory=False )\n",
    "#df_note_events.count()\n",
    "#df_note_events.tail(5)\n",
    "#query_df_note_events = df_note_events.query('TEXT.str.contains(\"weight\", na=False)', engine = 'python')\n",
    "#query_df_note_events.head(5)"
   ]
  },
  {
   "cell_type": "code",
   "execution_count": null,
   "id": "ba0fd429",
   "metadata": {
    "scrolled": true
   },
   "outputs": [],
   "source": [
    "#df_cpt_events = pd.read_csv('C:/Users/Chicki/Desktop/Data/CPTEVENTS1.csv', low_memory=False)\n",
    "#df_cpt_events.count()\n",
    "#df_cpt_events.tail(5)\n",
    "#query_cpt_events = df_cpt_events.query('DESCRIPTION.str.contains(\"weig\", na=False)', engine = 'python')\n",
    "#query_cpt_events = df_cpt_events.query('CPT_NUMBER == 94004')\n",
    "#query_cpt_events = df_cpt_events.query('CPT_NUMBER > 94000 & DESCRIPTION.str.contains(\"VENT\", na=False)', engine = 'python')\n",
    "#query_cpt_events.head(20)"
   ]
  }
 ],
 "metadata": {
  "kernelspec": {
   "display_name": "Python 3 (ipykernel)",
   "language": "python",
   "name": "python3"
  },
  "language_info": {
   "codemirror_mode": {
    "name": "ipython",
    "version": 3
   },
   "file_extension": ".py",
   "mimetype": "text/x-python",
   "name": "python",
   "nbconvert_exporter": "python",
   "pygments_lexer": "ipython3",
   "version": "3.9.7"
  }
 },
 "nbformat": 4,
 "nbformat_minor": 5
}
